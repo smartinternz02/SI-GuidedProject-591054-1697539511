{
  "nbformat": 4,
  "nbformat_minor": 0,
  "metadata": {
    "colab": {
      "provenance": [],
      "gpuType": "T4"
    },
    "kernelspec": {
      "name": "python3",
      "display_name": "Python 3"
    },
    "language_info": {
      "name": "python"
    },
    "accelerator": "GPU"
  },
  "cells": [
    {
      "cell_type": "code",
      "execution_count": null,
      "metadata": {
        "colab": {
          "base_uri": "https://localhost:8080/",
          "height": 35
        },
        "id": "oEbR2JD-TukA",
        "outputId": "a918e917-25a1-4704-e28f-7b736c724836"
      },
      "outputs": [
        {
          "output_type": "execute_result",
          "data": {
            "text/plain": [
              "'2.14.0'"
            ],
            "application/vnd.google.colaboratory.intrinsic+json": {
              "type": "string"
            }
          },
          "metadata": {},
          "execution_count": 1
        }
      ],
      "source": [
        "import tensorflow as tf\n",
        "tf.__version__"
      ]
    },
    {
      "cell_type": "code",
      "source": [
        "!pip install -q kaggle"
      ],
      "metadata": {
        "id": "u73wSTdgTwn9"
      },
      "execution_count": null,
      "outputs": []
    },
    {
      "cell_type": "code",
      "source": [
        "!mkdir ~/.kaggle"
      ],
      "metadata": {
        "id": "Pzj2nyivTwmP",
        "colab": {
          "base_uri": "https://localhost:8080/"
        },
        "outputId": "4acd061b-eeec-41b6-90e5-23d9109bc90e"
      },
      "execution_count": null,
      "outputs": [
        {
          "output_type": "stream",
          "name": "stdout",
          "text": [
            "mkdir: cannot create directory ‘/root/.kaggle’: File exists\n"
          ]
        }
      ]
    },
    {
      "cell_type": "code",
      "source": [
        "!cp kaggle.json ~/.kaggle"
      ],
      "metadata": {
        "id": "VymASXi9TwaD"
      },
      "execution_count": null,
      "outputs": []
    },
    {
      "cell_type": "code",
      "source": [
        "!kaggle datasets download -d saisrushikgovindgari/nail-disease-dataset"
      ],
      "metadata": {
        "colab": {
          "base_uri": "https://localhost:8080/"
        },
        "id": "AUnRJgsHTwYf",
        "outputId": "1749061a-e9aa-4e8e-90d7-f55e46611880"
      },
      "execution_count": null,
      "outputs": [
        {
          "output_type": "stream",
          "name": "stdout",
          "text": [
            "Warning: Your Kaggle API key is readable by other users on this system! To fix this, you can run 'chmod 600 /root/.kaggle/kaggle.json'\n",
            "nail-disease-dataset.zip: Skipping, found more recently modified local copy (use --force to force download)\n"
          ]
        }
      ]
    },
    {
      "cell_type": "code",
      "source": [
        "!unzip /content/nail-disease-dataset.zip"
      ],
      "metadata": {
        "colab": {
          "base_uri": "https://localhost:8080/"
        },
        "id": "NQvmPtg6TwUa",
        "outputId": "1f776123-c968-45c9-cde9-e468e2b434b1"
      },
      "execution_count": null,
      "outputs": [
        {
          "output_type": "stream",
          "name": "stdout",
          "text": [
            "Archive:  /content/nail-disease-dataset.zip\n",
            "replace Nail Disease DataSet/Test/Darier_s disease/1.PNG? [y]es, [n]o, [A]ll, [N]one, [r]ename: A\n",
            "  inflating: Nail Disease DataSet/Test/Darier_s disease/1.PNG  \n",
            "  inflating: Nail Disease DataSet/Test/Darier_s disease/10.PNG  \n",
            "  inflating: Nail Disease DataSet/Test/Darier_s disease/11.PNG  \n",
            "  inflating: Nail Disease DataSet/Test/Darier_s disease/12.PNG  \n",
            "  inflating: Nail Disease DataSet/Test/Darier_s disease/20.PNG  \n",
            "  inflating: Nail Disease DataSet/Test/Darier_s disease/21.PNG  \n",
            "  inflating: Nail Disease DataSet/Test/Darier_s disease/22.PNG  \n",
            "  inflating: Nail Disease DataSet/Test/Darier_s disease/23.PNG  \n",
            "  inflating: Nail Disease DataSet/Test/Darier_s disease/31.PNG  \n",
            "  inflating: Nail Disease DataSet/Test/Darier_s disease/32.PNG  \n",
            "  inflating: Nail Disease DataSet/Test/Darier_s disease/33.PNG  \n",
            "  inflating: Nail Disease DataSet/Test/Darier_s disease/34.PNG  \n",
            "  inflating: Nail Disease DataSet/Test/Darier_s disease/42.PNG  \n",
            "  inflating: Nail Disease DataSet/Test/Darier_s disease/43.PNG  \n",
            "  inflating: Nail Disease DataSet/Test/Darier_s disease/44.PNG  \n",
            "  inflating: Nail Disease DataSet/Test/Darier_s disease/45.PNG  \n",
            "  inflating: Nail Disease DataSet/Test/Darier_s disease/9.PNG  \n",
            "  inflating: Nail Disease DataSet/Test/Muehrck-e_s lines/1.PNG  \n",
            "  inflating: Nail Disease DataSet/Test/Muehrck-e_s lines/12.PNG  \n",
            "  inflating: Nail Disease DataSet/Test/Muehrck-e_s lines/13.PNG  \n",
            "  inflating: Nail Disease DataSet/Test/Muehrck-e_s lines/14.PNG  \n",
            "  inflating: Nail Disease DataSet/Test/Muehrck-e_s lines/2.PNG  \n",
            "  inflating: Nail Disease DataSet/Test/Muehrck-e_s lines/26.PNG  \n",
            "  inflating: Nail Disease DataSet/Test/Muehrck-e_s lines/27.PNG  \n",
            "  inflating: Nail Disease DataSet/Test/Muehrck-e_s lines/28.PNG  \n",
            "  inflating: Nail Disease DataSet/Test/Muehrck-e_s lines/3.PNG  \n",
            "  inflating: Nail Disease DataSet/Test/aloperia areata/1.PNG  \n",
            "  inflating: Nail Disease DataSet/Test/aloperia areata/12.PNG  \n",
            "  inflating: Nail Disease DataSet/Test/aloperia areata/13.PNG  \n",
            "  inflating: Nail Disease DataSet/Test/aloperia areata/14.PNG  \n",
            "  inflating: Nail Disease DataSet/Test/aloperia areata/2.PNG  \n",
            "  inflating: Nail Disease DataSet/Test/aloperia areata/23.PNG  \n",
            "  inflating: Nail Disease DataSet/Test/aloperia areata/24.PNG  \n",
            "  inflating: Nail Disease DataSet/Test/aloperia areata/25.PNG  \n",
            "  inflating: Nail Disease DataSet/Test/aloperia areata/3.PNG  \n",
            "  inflating: Nail Disease DataSet/Test/aloperia areata/34.PNG  \n",
            "  inflating: Nail Disease DataSet/Test/aloperia areata/35.PNG  \n",
            "  inflating: Nail Disease DataSet/Test/aloperia areata/36.PNG  \n",
            "  inflating: Nail Disease DataSet/Test/aloperia areata/45.PNG  \n",
            "  inflating: Nail Disease DataSet/Test/aloperia areata/46.PNG  \n",
            "  inflating: Nail Disease DataSet/Test/aloperia areata/47.PNG  \n",
            "  inflating: Nail Disease DataSet/Test/beau_s lines/2.PNG  \n",
            "  inflating: Nail Disease DataSet/Test/beau_s lines/24.PNG  \n",
            "  inflating: Nail Disease DataSet/Test/beau_s lines/25.PNG  \n",
            "  inflating: Nail Disease DataSet/Test/beau_s lines/3.PNG  \n",
            "  inflating: Nail Disease DataSet/Test/beau_s lines/46.PNG  \n",
            "  inflating: Nail Disease DataSet/Test/beau_s lines/47.PNG  \n",
            "  inflating: Nail Disease DataSet/Test/beau_s lines/k.PNG  \n",
            "  inflating: Nail Disease DataSet/Test/beau_s lines/n.PNG  \n",
            "  inflating: Nail Disease DataSet/Test/bluish nail/1.PNG  \n",
            "  inflating: Nail Disease DataSet/Test/bluish nail/12.PNG  \n",
            "  inflating: Nail Disease DataSet/Test/bluish nail/13.PNG  \n",
            "  inflating: Nail Disease DataSet/Test/bluish nail/14.PNG  \n",
            "  inflating: Nail Disease DataSet/Test/bluish nail/23.PNG  \n",
            "  inflating: Nail Disease DataSet/Test/bluish nail/24.PNG  \n",
            "  inflating: Nail Disease DataSet/Test/bluish nail/25.PNG  \n",
            "  inflating: Nail Disease DataSet/Test/bluish nail/34.PNG  \n",
            "  inflating: Nail Disease DataSet/Test/bluish nail/35.PNG  \n",
            "  inflating: Nail Disease DataSet/Test/bluish nail/36.PNG  \n",
            "  inflating: Nail Disease DataSet/Test/bluish nail/46.PNG  \n",
            "  inflating: Nail Disease DataSet/Test/bluish nail/47.PNG  \n",
            "  inflating: Nail Disease DataSet/Test/bluish nail/48.PNG  \n",
            "  inflating: Nail Disease DataSet/Test/clubbing/1.PNG  \n",
            "  inflating: Nail Disease DataSet/Test/clubbing/10.PNG  \n",
            "  inflating: Nail Disease DataSet/Test/clubbing/11.PNG  \n",
            "  inflating: Nail Disease DataSet/Test/clubbing/2.PNG  \n",
            "  inflating: Nail Disease DataSet/Test/clubbing/22.PNG  \n",
            "  inflating: Nail Disease DataSet/Test/clubbing/23.PNG  \n",
            "  inflating: Nail Disease DataSet/Test/clubbing/24.PNG  \n",
            "  inflating: Nail Disease DataSet/Test/clubbing/25.PNG  \n",
            "  inflating: Nail Disease DataSet/Test/clubbing/3.PNG  \n",
            "  inflating: Nail Disease DataSet/Test/clubbing/32.PNG  \n",
            "  inflating: Nail Disease DataSet/Test/clubbing/33.PNG  \n",
            "  inflating: Nail Disease DataSet/Test/clubbing/34.PNG  \n",
            "  inflating: Nail Disease DataSet/Test/eczema/10.PNG  \n",
            "  inflating: Nail Disease DataSet/Test/eczema/11.PNG  \n",
            "  inflating: Nail Disease DataSet/Test/eczema/20.PNG  \n",
            "  inflating: Nail Disease DataSet/Test/eczema/21.PNG  \n",
            "  inflating: Nail Disease DataSet/Test/eczema/22.PNG  \n",
            "  inflating: Nail Disease DataSet/Test/eczema/31.PNG  \n",
            "  inflating: Nail Disease DataSet/Test/eczema/32.PNG  \n",
            "  inflating: Nail Disease DataSet/Test/eczema/33.PNG  \n",
            "  inflating: Nail Disease DataSet/Test/eczema/42.PNG  \n",
            "  inflating: Nail Disease DataSet/Test/eczema/43.PNG  \n",
            "  inflating: Nail Disease DataSet/Test/eczema/44.PNG  \n",
            "  inflating: Nail Disease DataSet/Test/eczema/9.PNG  \n",
            "  inflating: Nail Disease DataSet/Test/half and half nailes (Lindsay_s nails)/1.PNG  \n",
            "  inflating: Nail Disease DataSet/Test/half and half nailes (Lindsay_s nails)/11.PNG  \n",
            "  inflating: Nail Disease DataSet/Test/half and half nailes (Lindsay_s nails)/12.PNG  \n",
            "  inflating: Nail Disease DataSet/Test/half and half nailes (Lindsay_s nails)/13.PNG  \n",
            "  inflating: Nail Disease DataSet/Test/half and half nailes (Lindsay_s nails)/14.PNG  \n",
            "  inflating: Nail Disease DataSet/Test/half and half nailes (Lindsay_s nails)/2.PNG  \n",
            "  inflating: Nail Disease DataSet/Test/half and half nailes (Lindsay_s nails)/22.PNG  \n",
            "  inflating: Nail Disease DataSet/Test/half and half nailes (Lindsay_s nails)/23.PNG  \n",
            "  inflating: Nail Disease DataSet/Test/half and half nailes (Lindsay_s nails)/24.PNG  \n",
            "  inflating: Nail Disease DataSet/Test/half and half nailes (Lindsay_s nails)/25.PNG  \n",
            "  inflating: Nail Disease DataSet/Test/half and half nailes (Lindsay_s nails)/3.PNG  \n",
            "  inflating: Nail Disease DataSet/Test/half and half nailes (Lindsay_s nails)/33.PNG  \n",
            "  inflating: Nail Disease DataSet/Test/half and half nailes (Lindsay_s nails)/34.PNG  \n",
            "  inflating: Nail Disease DataSet/Test/half and half nailes (Lindsay_s nails)/35.PNG  \n",
            "  inflating: Nail Disease DataSet/Test/half and half nailes (Lindsay_s nails)/36.PNG  \n",
            "  inflating: Nail Disease DataSet/Test/koilonychia/1.PNG  \n",
            "  inflating: Nail Disease DataSet/Test/koilonychia/12.PNG  \n",
            "  inflating: Nail Disease DataSet/Test/koilonychia/13.PNG  \n",
            "  inflating: Nail Disease DataSet/Test/koilonychia/2.PNG  \n",
            "  inflating: Nail Disease DataSet/Test/koilonychia/23.PNG  \n",
            "  inflating: Nail Disease DataSet/Test/koilonychia/24.PNG  \n",
            "  inflating: Nail Disease DataSet/Test/koilonychia/34.PNG  \n",
            "  inflating: Nail Disease DataSet/Test/koilonychia/35.PNG  \n",
            "  inflating: Nail Disease DataSet/Test/leukonychia/19.PNG  \n",
            "  inflating: Nail Disease DataSet/Test/leukonychia/2.PNG  \n",
            "  inflating: Nail Disease DataSet/Test/leukonychia/21.PNG  \n",
            "  inflating: Nail Disease DataSet/Test/leukonychia/31.PNG  \n",
            "  inflating: Nail Disease DataSet/Test/leukonychia/32.PNG  \n",
            "  inflating: Nail Disease DataSet/Test/leukonychia/4.PNG  \n",
            "  inflating: Nail Disease DataSet/Test/onycholycis/10.PNG  \n",
            "  inflating: Nail Disease DataSet/Test/onycholycis/11.PNG  \n",
            "  inflating: Nail Disease DataSet/Test/onycholycis/20.PNG  \n",
            "  inflating: Nail Disease DataSet/Test/onycholycis/21.PNG  \n",
            "  inflating: Nail Disease DataSet/Test/onycholycis/22.PNG  \n",
            "  inflating: Nail Disease DataSet/Test/onycholycis/31.PNG  \n",
            "  inflating: Nail Disease DataSet/Test/onycholycis/32.PNG  \n",
            "  inflating: Nail Disease DataSet/Test/onycholycis/33.PNG  \n",
            "  inflating: Nail Disease DataSet/Test/onycholycis/42.PNG  \n",
            "  inflating: Nail Disease DataSet/Test/onycholycis/43.PNG  \n",
            "  inflating: Nail Disease DataSet/Test/onycholycis/44.PNG  \n",
            "  inflating: Nail Disease DataSet/Test/onycholycis/9.PNG  \n",
            "  inflating: Nail Disease DataSet/Test/pale nail/1.PNG  \n",
            "  inflating: Nail Disease DataSet/Test/pale nail/12.PNG  \n",
            "  inflating: Nail Disease DataSet/Test/pale nail/13.PNG  \n",
            "  inflating: Nail Disease DataSet/Test/pale nail/2.PNG  \n",
            "  inflating: Nail Disease DataSet/Test/pale nail/23.PNG  \n",
            "  inflating: Nail Disease DataSet/Test/pale nail/24.PNG  \n",
            "  inflating: Nail Disease DataSet/Test/pale nail/34.PNG  \n",
            "  inflating: Nail Disease DataSet/Test/pale nail/35.PNG  \n",
            "  inflating: Nail Disease DataSet/Test/red lunula/1.PNG  \n",
            "  inflating: Nail Disease DataSet/Test/red lunula/10.PNG  \n",
            "  inflating: Nail Disease DataSet/Test/red lunula/11.PNG  \n",
            "  inflating: Nail Disease DataSet/Test/red lunula/12.PNG  \n",
            "  inflating: Nail Disease DataSet/Test/red lunula/13.PNG  \n",
            "  inflating: Nail Disease DataSet/Test/red lunula/14.PNG  \n",
            "  inflating: Nail Disease DataSet/Test/red lunula/15.PNG  \n",
            "  inflating: Nail Disease DataSet/Test/red lunula/2.PNG  \n",
            "  inflating: Nail Disease DataSet/Test/red lunula/3.PNG  \n",
            "  inflating: Nail Disease DataSet/Test/red lunula/4.PNG  \n",
            "  inflating: Nail Disease DataSet/Test/red lunula/5.PNG  \n",
            "  inflating: Nail Disease DataSet/Test/red lunula/6.PNG  \n",
            "  inflating: Nail Disease DataSet/Test/red lunula/7.PNG  \n",
            "  inflating: Nail Disease DataSet/Test/red lunula/8.PNG  \n",
            "  inflating: Nail Disease DataSet/Test/red lunula/9.PNG  \n",
            "  inflating: Nail Disease DataSet/Test/splinter hemmorrage/1.PNG  \n",
            "  inflating: Nail Disease DataSet/Test/splinter hemmorrage/10.PNG  \n",
            "  inflating: Nail Disease DataSet/Test/splinter hemmorrage/11.PNG  \n",
            "  inflating: Nail Disease DataSet/Test/splinter hemmorrage/12.PNG  \n",
            "  inflating: Nail Disease DataSet/Test/splinter hemmorrage/21.PNG  \n",
            "  inflating: Nail Disease DataSet/Test/splinter hemmorrage/a.PNG  \n",
            "  inflating: Nail Disease DataSet/Test/splinter hemmorrage/b.PNG  \n",
            "  inflating: Nail Disease DataSet/Test/splinter hemmorrage/q.PNG  \n",
            "  inflating: Nail Disease DataSet/Test/splinter hemmorrage/r.PNG  \n",
            "  inflating: Nail Disease DataSet/Test/splinter hemmorrage/s.PNG  \n",
            "  inflating: Nail Disease DataSet/Test/terry_s nail/1.PNG  \n",
            "  inflating: Nail Disease DataSet/Test/terry_s nail/16.PNG  \n",
            "  inflating: Nail Disease DataSet/Test/terry_s nail/17.PNG  \n",
            "  inflating: Nail Disease DataSet/Test/terry_s nail/2.PNG  \n",
            "  inflating: Nail Disease DataSet/Test/terry_s nail/23.PNG  \n",
            "  inflating: Nail Disease DataSet/Test/terry_s nail/24.PNG  \n",
            "  inflating: Nail Disease DataSet/Test/terry_s nail/25.PNG  \n",
            "  inflating: Nail Disease DataSet/Test/terry_s nail/3.PNG  \n",
            "  inflating: Nail Disease DataSet/Test/terry_s nail/4.PNG  \n",
            "  inflating: Nail Disease DataSet/Test/white nail/16.PNG  \n",
            "  inflating: Nail Disease DataSet/Test/white nail/17.PNG  \n",
            "  inflating: Nail Disease DataSet/Test/white nail/18.PNG  \n",
            "  inflating: Nail Disease DataSet/Test/white nail/2.PNG  \n",
            "  inflating: Nail Disease DataSet/Test/white nail/3.PNG  \n",
            "  inflating: Nail Disease DataSet/Test/white nail/6.PNG  \n",
            "  inflating: Nail Disease DataSet/Test/yellow nails/1.PNG  \n",
            "  inflating: Nail Disease DataSet/Test/yellow nails/2.PNG  \n",
            "  inflating: Nail Disease DataSet/Test/yellow nails/24.PNG  \n",
            "  inflating: Nail Disease DataSet/Test/yellow nails/25.PNG  \n",
            "  inflating: Nail Disease DataSet/Test/yellow nails/26.PNG  \n",
            "  inflating: Nail Disease DataSet/Test/yellow nails/3.PNG  \n",
            "  inflating: Nail Disease DataSet/Test/yellow nails/4.PNG  \n",
            "  inflating: Nail Disease DataSet/Test/yellow nails/5.PNG  \n",
            "  inflating: Nail Disease DataSet/Train/Darier_s disease/1.PNG  \n",
            "  inflating: Nail Disease DataSet/Train/Darier_s disease/10.PNG  \n",
            "  inflating: Nail Disease DataSet/Train/Darier_s disease/11.PNG  \n",
            "  inflating: Nail Disease DataSet/Train/Darier_s disease/12.PNG  \n",
            "  inflating: Nail Disease DataSet/Train/Darier_s disease/13.PNG  \n",
            "  inflating: Nail Disease DataSet/Train/Darier_s disease/14.PNG  \n",
            "  inflating: Nail Disease DataSet/Train/Darier_s disease/15.PNG  \n",
            "  inflating: Nail Disease DataSet/Train/Darier_s disease/16.PNG  \n",
            "  inflating: Nail Disease DataSet/Train/Darier_s disease/17.PNG  \n",
            "  inflating: Nail Disease DataSet/Train/Darier_s disease/18.PNG  \n",
            "  inflating: Nail Disease DataSet/Train/Darier_s disease/19.PNG  \n",
            "  inflating: Nail Disease DataSet/Train/Darier_s disease/2.PNG  \n",
            "  inflating: Nail Disease DataSet/Train/Darier_s disease/20.PNG  \n",
            "  inflating: Nail Disease DataSet/Train/Darier_s disease/21.PNG  \n",
            "  inflating: Nail Disease DataSet/Train/Darier_s disease/22.PNG  \n",
            "  inflating: Nail Disease DataSet/Train/Darier_s disease/23.PNG  \n",
            "  inflating: Nail Disease DataSet/Train/Darier_s disease/24.PNG  \n",
            "  inflating: Nail Disease DataSet/Train/Darier_s disease/25.PNG  \n",
            "  inflating: Nail Disease DataSet/Train/Darier_s disease/26.PNG  \n",
            "  inflating: Nail Disease DataSet/Train/Darier_s disease/27.PNG  \n",
            "  inflating: Nail Disease DataSet/Train/Darier_s disease/28.PNG  \n",
            "  inflating: Nail Disease DataSet/Train/Darier_s disease/29.PNG  \n",
            "  inflating: Nail Disease DataSet/Train/Darier_s disease/3.PNG  \n",
            "  inflating: Nail Disease DataSet/Train/Darier_s disease/30.PNG  \n",
            "  inflating: Nail Disease DataSet/Train/Darier_s disease/31.PNG  \n",
            "  inflating: Nail Disease DataSet/Train/Darier_s disease/32.PNG  \n",
            "  inflating: Nail Disease DataSet/Train/Darier_s disease/33.PNG  \n",
            "  inflating: Nail Disease DataSet/Train/Darier_s disease/34.PNG  \n",
            "  inflating: Nail Disease DataSet/Train/Darier_s disease/35.PNG  \n",
            "  inflating: Nail Disease DataSet/Train/Darier_s disease/36.PNG  \n",
            "  inflating: Nail Disease DataSet/Train/Darier_s disease/37.PNG  \n",
            "  inflating: Nail Disease DataSet/Train/Darier_s disease/38.PNG  \n",
            "  inflating: Nail Disease DataSet/Train/Darier_s disease/39.PNG  \n",
            "  inflating: Nail Disease DataSet/Train/Darier_s disease/4.PNG  \n",
            "  inflating: Nail Disease DataSet/Train/Darier_s disease/40.PNG  \n",
            "  inflating: Nail Disease DataSet/Train/Darier_s disease/41.PNG  \n",
            "  inflating: Nail Disease DataSet/Train/Darier_s disease/42.PNG  \n",
            "  inflating: Nail Disease DataSet/Train/Darier_s disease/43.PNG  \n",
            "  inflating: Nail Disease DataSet/Train/Darier_s disease/44.PNG  \n",
            "  inflating: Nail Disease DataSet/Train/Darier_s disease/45.PNG  \n",
            "  inflating: Nail Disease DataSet/Train/Darier_s disease/46.PNG  \n",
            "  inflating: Nail Disease DataSet/Train/Darier_s disease/47.PNG  \n",
            "  inflating: Nail Disease DataSet/Train/Darier_s disease/5.PNG  \n",
            "  inflating: Nail Disease DataSet/Train/Darier_s disease/6.PNG  \n",
            "  inflating: Nail Disease DataSet/Train/Darier_s disease/7.PNG  \n",
            "  inflating: Nail Disease DataSet/Train/Darier_s disease/8.PNG  \n",
            "  inflating: Nail Disease DataSet/Train/Darier_s disease/9.PNG  \n",
            "  inflating: Nail Disease DataSet/Train/Muehrck-e_s lines/1.PNG  \n",
            "  inflating: Nail Disease DataSet/Train/Muehrck-e_s lines/10.PNG  \n",
            "  inflating: Nail Disease DataSet/Train/Muehrck-e_s lines/11.PNG  \n",
            "  inflating: Nail Disease DataSet/Train/Muehrck-e_s lines/12.PNG  \n",
            "  inflating: Nail Disease DataSet/Train/Muehrck-e_s lines/13.PNG  \n",
            "  inflating: Nail Disease DataSet/Train/Muehrck-e_s lines/14.PNG  \n",
            "  inflating: Nail Disease DataSet/Train/Muehrck-e_s lines/15.PNG  \n",
            "  inflating: Nail Disease DataSet/Train/Muehrck-e_s lines/16.PNG  \n",
            "  inflating: Nail Disease DataSet/Train/Muehrck-e_s lines/17.PNG  \n",
            "  inflating: Nail Disease DataSet/Train/Muehrck-e_s lines/18.PNG  \n",
            "  inflating: Nail Disease DataSet/Train/Muehrck-e_s lines/19.PNG  \n",
            "  inflating: Nail Disease DataSet/Train/Muehrck-e_s lines/2.PNG  \n",
            "  inflating: Nail Disease DataSet/Train/Muehrck-e_s lines/20.PNG  \n",
            "  inflating: Nail Disease DataSet/Train/Muehrck-e_s lines/21.PNG  \n",
            "  inflating: Nail Disease DataSet/Train/Muehrck-e_s lines/22.PNG  \n",
            "  inflating: Nail Disease DataSet/Train/Muehrck-e_s lines/26.PNG  \n",
            "  inflating: Nail Disease DataSet/Train/Muehrck-e_s lines/27.PNG  \n",
            "  inflating: Nail Disease DataSet/Train/Muehrck-e_s lines/28.PNG  \n",
            "  inflating: Nail Disease DataSet/Train/Muehrck-e_s lines/29.PNG  \n",
            "  inflating: Nail Disease DataSet/Train/Muehrck-e_s lines/3.PNG  \n",
            "  inflating: Nail Disease DataSet/Train/Muehrck-e_s lines/36.PNG  \n",
            "  inflating: Nail Disease DataSet/Train/Muehrck-e_s lines/37.PNG  \n",
            "  inflating: Nail Disease DataSet/Train/Muehrck-e_s lines/38.PNG  \n",
            "  inflating: Nail Disease DataSet/Train/Muehrck-e_s lines/39.PNG  \n",
            "  inflating: Nail Disease DataSet/Train/Muehrck-e_s lines/4.PNG  \n",
            "  inflating: Nail Disease DataSet/Train/Muehrck-e_s lines/40.PNG  \n",
            "  inflating: Nail Disease DataSet/Train/Muehrck-e_s lines/41.PNG  \n",
            "  inflating: Nail Disease DataSet/Train/Muehrck-e_s lines/42.PNG  \n",
            "  inflating: Nail Disease DataSet/Train/Muehrck-e_s lines/5.PNG  \n",
            "  inflating: Nail Disease DataSet/Train/Muehrck-e_s lines/6.PNG  \n",
            "  inflating: Nail Disease DataSet/Train/Muehrck-e_s lines/7.PNG  \n",
            "  inflating: Nail Disease DataSet/Train/Muehrck-e_s lines/8.PNG  \n",
            "  inflating: Nail Disease DataSet/Train/Muehrck-e_s lines/9.PNG  \n",
            "  inflating: Nail Disease DataSet/Train/aloperia areata/1.PNG  \n",
            "  inflating: Nail Disease DataSet/Train/aloperia areata/10.PNG  \n",
            "  inflating: Nail Disease DataSet/Train/aloperia areata/11.PNG  \n",
            "  inflating: Nail Disease DataSet/Train/aloperia areata/12.PNG  \n",
            "  inflating: Nail Disease DataSet/Train/aloperia areata/13.PNG  \n",
            "  inflating: Nail Disease DataSet/Train/aloperia areata/14.PNG  \n",
            "  inflating: Nail Disease DataSet/Train/aloperia areata/15.PNG  \n",
            "  inflating: Nail Disease DataSet/Train/aloperia areata/16.PNG  \n",
            "  inflating: Nail Disease DataSet/Train/aloperia areata/17.PNG  \n",
            "  inflating: Nail Disease DataSet/Train/aloperia areata/18.PNG  \n",
            "  inflating: Nail Disease DataSet/Train/aloperia areata/19.PNG  \n",
            "  inflating: Nail Disease DataSet/Train/aloperia areata/2.PNG  \n",
            "  inflating: Nail Disease DataSet/Train/aloperia areata/20.PNG  \n",
            "  inflating: Nail Disease DataSet/Train/aloperia areata/21.PNG  \n",
            "  inflating: Nail Disease DataSet/Train/aloperia areata/22.PNG  \n",
            "  inflating: Nail Disease DataSet/Train/aloperia areata/23.PNG  \n",
            "  inflating: Nail Disease DataSet/Train/aloperia areata/24.PNG  \n",
            "  inflating: Nail Disease DataSet/Train/aloperia areata/25.PNG  \n",
            "  inflating: Nail Disease DataSet/Train/aloperia areata/26.PNG  \n",
            "  inflating: Nail Disease DataSet/Train/aloperia areata/27.PNG  \n",
            "  inflating: Nail Disease DataSet/Train/aloperia areata/28.PNG  \n",
            "  inflating: Nail Disease DataSet/Train/aloperia areata/29.PNG  \n",
            "  inflating: Nail Disease DataSet/Train/aloperia areata/3.PNG  \n",
            "  inflating: Nail Disease DataSet/Train/aloperia areata/30.PNG  \n",
            "  inflating: Nail Disease DataSet/Train/aloperia areata/31.PNG  \n",
            "  inflating: Nail Disease DataSet/Train/aloperia areata/32.PNG  \n",
            "  inflating: Nail Disease DataSet/Train/aloperia areata/33.PNG  \n",
            "  inflating: Nail Disease DataSet/Train/aloperia areata/34.PNG  \n",
            "  inflating: Nail Disease DataSet/Train/aloperia areata/35.PNG  \n",
            "  inflating: Nail Disease DataSet/Train/aloperia areata/36.PNG  \n",
            "  inflating: Nail Disease DataSet/Train/aloperia areata/37.PNG  \n",
            "  inflating: Nail Disease DataSet/Train/aloperia areata/38.PNG  \n",
            "  inflating: Nail Disease DataSet/Train/aloperia areata/39.PNG  \n",
            "  inflating: Nail Disease DataSet/Train/aloperia areata/4.PNG  \n",
            "  inflating: Nail Disease DataSet/Train/aloperia areata/40.PNG  \n",
            "  inflating: Nail Disease DataSet/Train/aloperia areata/41.PNG  \n",
            "  inflating: Nail Disease DataSet/Train/aloperia areata/42.PNG  \n",
            "  inflating: Nail Disease DataSet/Train/aloperia areata/43.PNG  \n",
            "  inflating: Nail Disease DataSet/Train/aloperia areata/44.PNG  \n",
            "  inflating: Nail Disease DataSet/Train/aloperia areata/45.PNG  \n",
            "  inflating: Nail Disease DataSet/Train/aloperia areata/46.PNG  \n",
            "  inflating: Nail Disease DataSet/Train/aloperia areata/47.PNG  \n",
            "  inflating: Nail Disease DataSet/Train/aloperia areata/5.PNG  \n",
            "  inflating: Nail Disease DataSet/Train/aloperia areata/6.PNG  \n",
            "  inflating: Nail Disease DataSet/Train/aloperia areata/7.PNG  \n",
            "  inflating: Nail Disease DataSet/Train/aloperia areata/8.PNG  \n",
            "  inflating: Nail Disease DataSet/Train/aloperia areata/9.PNG  \n",
            "  inflating: Nail Disease DataSet/Train/beau_s lines/10.PNG  \n",
            "  inflating: Nail Disease DataSet/Train/beau_s lines/16.PNG  \n",
            "  inflating: Nail Disease DataSet/Train/beau_s lines/17.PNG  \n",
            "  inflating: Nail Disease DataSet/Train/beau_s lines/19.PNG  \n",
            "  inflating: Nail Disease DataSet/Train/beau_s lines/2.PNG  \n",
            "  inflating: Nail Disease DataSet/Train/beau_s lines/20.PNG  \n",
            "  inflating: Nail Disease DataSet/Train/beau_s lines/21.PNG  \n",
            "  inflating: Nail Disease DataSet/Train/beau_s lines/22.PNG  \n",
            "  inflating: Nail Disease DataSet/Train/beau_s lines/23.PNG  \n",
            "  inflating: Nail Disease DataSet/Train/beau_s lines/24.PNG  \n",
            "  inflating: Nail Disease DataSet/Train/beau_s lines/25.PNG  \n",
            "  inflating: Nail Disease DataSet/Train/beau_s lines/3.PNG  \n",
            "  inflating: Nail Disease DataSet/Train/beau_s lines/30.PNG  \n",
            "  inflating: Nail Disease DataSet/Train/beau_s lines/31.PNG  \n",
            "  inflating: Nail Disease DataSet/Train/beau_s lines/32.PNG  \n",
            "  inflating: Nail Disease DataSet/Train/beau_s lines/33.PNG  \n",
            "  inflating: Nail Disease DataSet/Train/beau_s lines/34.PNG  \n",
            "  inflating: Nail Disease DataSet/Train/beau_s lines/35.PNG  \n",
            "  inflating: Nail Disease DataSet/Train/beau_s lines/43.PNG  \n",
            "  inflating: Nail Disease DataSet/Train/beau_s lines/44.PNG  \n",
            "  inflating: Nail Disease DataSet/Train/beau_s lines/45.PNG  \n",
            "  inflating: Nail Disease DataSet/Train/beau_s lines/46.PNG  \n",
            "  inflating: Nail Disease DataSet/Train/beau_s lines/47.PNG  \n",
            "  inflating: Nail Disease DataSet/Train/beau_s lines/48.PNG  \n",
            "  inflating: Nail Disease DataSet/Train/beau_s lines/8.PNG  \n",
            "  inflating: Nail Disease DataSet/Train/beau_s lines/a.PNG  \n",
            "  inflating: Nail Disease DataSet/Train/beau_s lines/b.PNG  \n",
            "  inflating: Nail Disease DataSet/Train/beau_s lines/c.PNG  \n",
            "  inflating: Nail Disease DataSet/Train/beau_s lines/e.PNG  \n",
            "  inflating: Nail Disease DataSet/Train/beau_s lines/f.PNG  \n",
            "  inflating: Nail Disease DataSet/Train/beau_s lines/g.PNG  \n",
            "  inflating: Nail Disease DataSet/Train/beau_s lines/h.PNG  \n",
            "  inflating: Nail Disease DataSet/Train/beau_s lines/i.PNG  \n",
            "  inflating: Nail Disease DataSet/Train/beau_s lines/k.PNG  \n",
            "  inflating: Nail Disease DataSet/Train/beau_s lines/n.PNG  \n",
            "  inflating: Nail Disease DataSet/Train/beau_s lines/oi.PNG  \n",
            "  inflating: Nail Disease DataSet/Train/beau_s lines/q.PNG  \n",
            "  inflating: Nail Disease DataSet/Train/beau_s lines/r.PNG  \n",
            "  inflating: Nail Disease DataSet/Train/beau_s lines/t.PNG  \n",
            "  inflating: Nail Disease DataSet/Train/beau_s lines/v.PNG  \n",
            "  inflating: Nail Disease DataSet/Train/beau_s lines/w.PNG  \n",
            "  inflating: Nail Disease DataSet/Train/beau_s lines/y.PNG  \n",
            "  inflating: Nail Disease DataSet/Train/bluish nail/1.PNG  \n",
            "  inflating: Nail Disease DataSet/Train/bluish nail/10.PNG  \n",
            "  inflating: Nail Disease DataSet/Train/bluish nail/11.PNG  \n",
            "  inflating: Nail Disease DataSet/Train/bluish nail/12.PNG  \n",
            "  inflating: Nail Disease DataSet/Train/bluish nail/13.PNG  \n",
            "  inflating: Nail Disease DataSet/Train/bluish nail/14.PNG  \n",
            "  inflating: Nail Disease DataSet/Train/bluish nail/15.PNG  \n",
            "  inflating: Nail Disease DataSet/Train/bluish nail/16.PNG  \n",
            "  inflating: Nail Disease DataSet/Train/bluish nail/17.PNG  \n",
            "  inflating: Nail Disease DataSet/Train/bluish nail/18.PNG  \n",
            "  inflating: Nail Disease DataSet/Train/bluish nail/19.PNG  \n",
            "  inflating: Nail Disease DataSet/Train/bluish nail/2.PNG  \n",
            "  inflating: Nail Disease DataSet/Train/bluish nail/20.PNG  \n",
            "  inflating: Nail Disease DataSet/Train/bluish nail/21.PNG  \n",
            "  inflating: Nail Disease DataSet/Train/bluish nail/22.PNG  \n",
            "  inflating: Nail Disease DataSet/Train/bluish nail/23.PNG  \n",
            "  inflating: Nail Disease DataSet/Train/bluish nail/24.PNG  \n",
            "  inflating: Nail Disease DataSet/Train/bluish nail/25.PNG  \n",
            "  inflating: Nail Disease DataSet/Train/bluish nail/26.PNG  \n",
            "  inflating: Nail Disease DataSet/Train/bluish nail/27.PNG  \n",
            "  inflating: Nail Disease DataSet/Train/bluish nail/28.PNG  \n",
            "  inflating: Nail Disease DataSet/Train/bluish nail/29.PNG  \n",
            "  inflating: Nail Disease DataSet/Train/bluish nail/30.PNG  \n",
            "  inflating: Nail Disease DataSet/Train/bluish nail/31.PNG  \n",
            "  inflating: Nail Disease DataSet/Train/bluish nail/32.PNG  \n",
            "  inflating: Nail Disease DataSet/Train/bluish nail/33.PNG  \n",
            "  inflating: Nail Disease DataSet/Train/bluish nail/34.PNG  \n",
            "  inflating: Nail Disease DataSet/Train/bluish nail/35.PNG  \n",
            "  inflating: Nail Disease DataSet/Train/bluish nail/36.PNG  \n",
            "  inflating: Nail Disease DataSet/Train/bluish nail/37.PNG  \n",
            "  inflating: Nail Disease DataSet/Train/bluish nail/38.PNG  \n",
            "  inflating: Nail Disease DataSet/Train/bluish nail/39.PNG  \n",
            "  inflating: Nail Disease DataSet/Train/bluish nail/4.PNG  \n",
            "  inflating: Nail Disease DataSet/Train/bluish nail/40.PNG  \n",
            "  inflating: Nail Disease DataSet/Train/bluish nail/41.PNG  \n",
            "  inflating: Nail Disease DataSet/Train/bluish nail/42.PNG  \n",
            "  inflating: Nail Disease DataSet/Train/bluish nail/43.PNG  \n",
            "  inflating: Nail Disease DataSet/Train/bluish nail/44.PNG  \n",
            "  inflating: Nail Disease DataSet/Train/bluish nail/46.PNG  \n",
            "  inflating: Nail Disease DataSet/Train/bluish nail/47.PNG  \n",
            "  inflating: Nail Disease DataSet/Train/bluish nail/48.PNG  \n",
            "  inflating: Nail Disease DataSet/Train/bluish nail/49.PNG  \n",
            "  inflating: Nail Disease DataSet/Train/bluish nail/5.PNG  \n",
            "  inflating: Nail Disease DataSet/Train/bluish nail/50.PNG  \n",
            "  inflating: Nail Disease DataSet/Train/bluish nail/51.PNG  \n",
            "  inflating: Nail Disease DataSet/Train/bluish nail/52.PNG  \n",
            "  inflating: Nail Disease DataSet/Train/bluish nail/53.PNG  \n",
            "  inflating: Nail Disease DataSet/Train/bluish nail/6.PNG  \n",
            "  inflating: Nail Disease DataSet/Train/bluish nail/8.PNG  \n",
            "  inflating: Nail Disease DataSet/Train/bluish nail/9.PNG  \n",
            "  inflating: Nail Disease DataSet/Train/clubbing/1.PNG  \n",
            "  inflating: Nail Disease DataSet/Train/clubbing/10.PNG  \n",
            "  inflating: Nail Disease DataSet/Train/clubbing/11.PNG  \n",
            "  inflating: Nail Disease DataSet/Train/clubbing/12.PNG  \n",
            "  inflating: Nail Disease DataSet/Train/clubbing/13.PNG  \n",
            "  inflating: Nail Disease DataSet/Train/clubbing/14.PNG  \n",
            "  inflating: Nail Disease DataSet/Train/clubbing/15.PNG  \n",
            "  inflating: Nail Disease DataSet/Train/clubbing/16.PNG  \n",
            "  inflating: Nail Disease DataSet/Train/clubbing/17.PNG  \n",
            "  inflating: Nail Disease DataSet/Train/clubbing/18.PNG  \n",
            "  inflating: Nail Disease DataSet/Train/clubbing/19.PNG  \n",
            "  inflating: Nail Disease DataSet/Train/clubbing/2.PNG  \n",
            "  inflating: Nail Disease DataSet/Train/clubbing/20.PNG  \n",
            "  inflating: Nail Disease DataSet/Train/clubbing/21.PNG  \n",
            "  inflating: Nail Disease DataSet/Train/clubbing/22.PNG  \n",
            "  inflating: Nail Disease DataSet/Train/clubbing/23.PNG  \n",
            "  inflating: Nail Disease DataSet/Train/clubbing/24.PNG  \n",
            "  inflating: Nail Disease DataSet/Train/clubbing/25.PNG  \n",
            "  inflating: Nail Disease DataSet/Train/clubbing/26.PNG  \n",
            "  inflating: Nail Disease DataSet/Train/clubbing/27.PNG  \n",
            "  inflating: Nail Disease DataSet/Train/clubbing/28.PNG  \n",
            "  inflating: Nail Disease DataSet/Train/clubbing/29.PNG  \n",
            "  inflating: Nail Disease DataSet/Train/clubbing/3.PNG  \n",
            "  inflating: Nail Disease DataSet/Train/clubbing/30.PNG  \n",
            "  inflating: Nail Disease DataSet/Train/clubbing/31.PNG  \n",
            "  inflating: Nail Disease DataSet/Train/clubbing/32.PNG  \n",
            "  inflating: Nail Disease DataSet/Train/clubbing/33.PNG  \n",
            "  inflating: Nail Disease DataSet/Train/clubbing/34.PNG  \n",
            "  inflating: Nail Disease DataSet/Train/clubbing/35.PNG  \n",
            "  inflating: Nail Disease DataSet/Train/clubbing/36.PNG  \n",
            "  inflating: Nail Disease DataSet/Train/clubbing/37.PNG  \n",
            "  inflating: Nail Disease DataSet/Train/clubbing/38.PNG  \n",
            "  inflating: Nail Disease DataSet/Train/clubbing/39.PNG  \n",
            "  inflating: Nail Disease DataSet/Train/clubbing/4.PNG  \n",
            "  inflating: Nail Disease DataSet/Train/clubbing/40.PNG  \n",
            "  inflating: Nail Disease DataSet/Train/clubbing/5.PNG  \n",
            "  inflating: Nail Disease DataSet/Train/clubbing/6.PNG  \n",
            "  inflating: Nail Disease DataSet/Train/clubbing/7.PNG  \n",
            "  inflating: Nail Disease DataSet/Train/clubbing/8.PNG  \n",
            "  inflating: Nail Disease DataSet/Train/clubbing/9.PNG  \n",
            "  inflating: Nail Disease DataSet/Train/eczema/1.PNG  \n",
            "  inflating: Nail Disease DataSet/Train/eczema/10.PNG  \n",
            "  inflating: Nail Disease DataSet/Train/eczema/11.PNG  \n",
            "  inflating: Nail Disease DataSet/Train/eczema/12.PNG  \n",
            "  inflating: Nail Disease DataSet/Train/eczema/13.PNG  \n",
            "  inflating: Nail Disease DataSet/Train/eczema/14.PNG  \n",
            "  inflating: Nail Disease DataSet/Train/eczema/15.PNG  \n",
            "  inflating: Nail Disease DataSet/Train/eczema/16.PNG  \n",
            "  inflating: Nail Disease DataSet/Train/eczema/17.PNG  \n",
            "  inflating: Nail Disease DataSet/Train/eczema/18.PNG  \n",
            "  inflating: Nail Disease DataSet/Train/eczema/19.PNG  \n",
            "  inflating: Nail Disease DataSet/Train/eczema/2.PNG  \n",
            "  inflating: Nail Disease DataSet/Train/eczema/20.PNG  \n",
            "  inflating: Nail Disease DataSet/Train/eczema/21.PNG  \n",
            "  inflating: Nail Disease DataSet/Train/eczema/22.PNG  \n",
            "  inflating: Nail Disease DataSet/Train/eczema/23.PNG  \n",
            "  inflating: Nail Disease DataSet/Train/eczema/24.PNG  \n",
            "  inflating: Nail Disease DataSet/Train/eczema/25.PNG  \n",
            "  inflating: Nail Disease DataSet/Train/eczema/26.PNG  \n",
            "  inflating: Nail Disease DataSet/Train/eczema/27.PNG  \n",
            "  inflating: Nail Disease DataSet/Train/eczema/28.PNG  \n",
            "  inflating: Nail Disease DataSet/Train/eczema/29.PNG  \n",
            "  inflating: Nail Disease DataSet/Train/eczema/3.PNG  \n",
            "  inflating: Nail Disease DataSet/Train/eczema/30.PNG  \n",
            "  inflating: Nail Disease DataSet/Train/eczema/31.PNG  \n",
            "  inflating: Nail Disease DataSet/Train/eczema/32.PNG  \n",
            "  inflating: Nail Disease DataSet/Train/eczema/33.PNG  \n",
            "  inflating: Nail Disease DataSet/Train/eczema/34.PNG  \n",
            "  inflating: Nail Disease DataSet/Train/eczema/35.PNG  \n",
            "  inflating: Nail Disease DataSet/Train/eczema/36.PNG  \n",
            "  inflating: Nail Disease DataSet/Train/eczema/37.PNG  \n",
            "  inflating: Nail Disease DataSet/Train/eczema/38.PNG  \n",
            "  inflating: Nail Disease DataSet/Train/eczema/39.PNG  \n",
            "  inflating: Nail Disease DataSet/Train/eczema/4.PNG  \n",
            "  inflating: Nail Disease DataSet/Train/eczema/40.PNG  \n",
            "  inflating: Nail Disease DataSet/Train/eczema/41.PNG  \n",
            "  inflating: Nail Disease DataSet/Train/eczema/42.PNG  \n",
            "  inflating: Nail Disease DataSet/Train/eczema/43.PNG  \n",
            "  inflating: Nail Disease DataSet/Train/eczema/44.PNG  \n",
            "  inflating: Nail Disease DataSet/Train/eczema/45.PNG  \n",
            "  inflating: Nail Disease DataSet/Train/eczema/5.PNG  \n",
            "  inflating: Nail Disease DataSet/Train/eczema/6.PNG  \n",
            "  inflating: Nail Disease DataSet/Train/eczema/7.PNG  \n",
            "  inflating: Nail Disease DataSet/Train/eczema/8.PNG  \n",
            "  inflating: Nail Disease DataSet/Train/eczema/9.PNG  \n",
            "  inflating: Nail Disease DataSet/Train/half and half nailes (Lindsay_s nails)/1.PNG  \n",
            "  inflating: Nail Disease DataSet/Train/half and half nailes (Lindsay_s nails)/10.PNG  \n",
            "  inflating: Nail Disease DataSet/Train/half and half nailes (Lindsay_s nails)/11.PNG  \n",
            "  inflating: Nail Disease DataSet/Train/half and half nailes (Lindsay_s nails)/12.PNG  \n",
            "  inflating: Nail Disease DataSet/Train/half and half nailes (Lindsay_s nails)/13.PNG  \n",
            "  inflating: Nail Disease DataSet/Train/half and half nailes (Lindsay_s nails)/14.PNG  \n",
            "  inflating: Nail Disease DataSet/Train/half and half nailes (Lindsay_s nails)/15.PNG  \n",
            "  inflating: Nail Disease DataSet/Train/half and half nailes (Lindsay_s nails)/16.PNG  \n",
            "  inflating: Nail Disease DataSet/Train/half and half nailes (Lindsay_s nails)/17.PNG  \n",
            "  inflating: Nail Disease DataSet/Train/half and half nailes (Lindsay_s nails)/18.PNG  \n",
            "  inflating: Nail Disease DataSet/Train/half and half nailes (Lindsay_s nails)/19.PNG  \n",
            "  inflating: Nail Disease DataSet/Train/half and half nailes (Lindsay_s nails)/2.PNG  \n",
            "  inflating: Nail Disease DataSet/Train/half and half nailes (Lindsay_s nails)/20.PNG  \n",
            "  inflating: Nail Disease DataSet/Train/half and half nailes (Lindsay_s nails)/21.PNG  \n",
            "  inflating: Nail Disease DataSet/Train/half and half nailes (Lindsay_s nails)/22.PNG  \n",
            "  inflating: Nail Disease DataSet/Train/half and half nailes (Lindsay_s nails)/23.PNG  \n",
            "  inflating: Nail Disease DataSet/Train/half and half nailes (Lindsay_s nails)/24.PNG  \n",
            "  inflating: Nail Disease DataSet/Train/half and half nailes (Lindsay_s nails)/25.PNG  \n",
            "  inflating: Nail Disease DataSet/Train/half and half nailes (Lindsay_s nails)/26.PNG  \n",
            "  inflating: Nail Disease DataSet/Train/half and half nailes (Lindsay_s nails)/27.PNG  \n",
            "  inflating: Nail Disease DataSet/Train/half and half nailes (Lindsay_s nails)/28.PNG  \n",
            "  inflating: Nail Disease DataSet/Train/half and half nailes (Lindsay_s nails)/29.PNG  \n",
            "  inflating: Nail Disease DataSet/Train/half and half nailes (Lindsay_s nails)/3.PNG  \n",
            "  inflating: Nail Disease DataSet/Train/half and half nailes (Lindsay_s nails)/30.PNG  \n",
            "  inflating: Nail Disease DataSet/Train/half and half nailes (Lindsay_s nails)/31.PNG  \n",
            "  inflating: Nail Disease DataSet/Train/half and half nailes (Lindsay_s nails)/32.PNG  \n",
            "  inflating: Nail Disease DataSet/Train/half and half nailes (Lindsay_s nails)/33.PNG  \n",
            "  inflating: Nail Disease DataSet/Train/half and half nailes (Lindsay_s nails)/34.PNG  \n",
            "  inflating: Nail Disease DataSet/Train/half and half nailes (Lindsay_s nails)/35.PNG  \n",
            "  inflating: Nail Disease DataSet/Train/half and half nailes (Lindsay_s nails)/36.PNG  \n",
            "  inflating: Nail Disease DataSet/Train/half and half nailes (Lindsay_s nails)/37.PNG  \n",
            "  inflating: Nail Disease DataSet/Train/half and half nailes (Lindsay_s nails)/38.PNG  \n",
            "  inflating: Nail Disease DataSet/Train/half and half nailes (Lindsay_s nails)/4.PNG  \n",
            "  inflating: Nail Disease DataSet/Train/half and half nailes (Lindsay_s nails)/5.PNG  \n",
            "  inflating: Nail Disease DataSet/Train/half and half nailes (Lindsay_s nails)/6.PNG  \n",
            "  inflating: Nail Disease DataSet/Train/half and half nailes (Lindsay_s nails)/7.PNG  \n",
            "  inflating: Nail Disease DataSet/Train/half and half nailes (Lindsay_s nails)/8.PNG  \n",
            "  inflating: Nail Disease DataSet/Train/half and half nailes (Lindsay_s nails)/9.PNG  \n",
            "  inflating: Nail Disease DataSet/Train/koilonychia/1.PNG  \n",
            "  inflating: Nail Disease DataSet/Train/koilonychia/10.PNG  \n",
            "  inflating: Nail Disease DataSet/Train/koilonychia/11.PNG  \n",
            "  inflating: Nail Disease DataSet/Train/koilonychia/12.PNG  \n",
            "  inflating: Nail Disease DataSet/Train/koilonychia/13.PNG  \n",
            "  inflating: Nail Disease DataSet/Train/koilonychia/14.PNG  \n",
            "  inflating: Nail Disease DataSet/Train/koilonychia/15.PNG  \n",
            "  inflating: Nail Disease DataSet/Train/koilonychia/16.PNG  \n",
            "  inflating: Nail Disease DataSet/Train/koilonychia/17.PNG  \n",
            "  inflating: Nail Disease DataSet/Train/koilonychia/18.PNG  \n",
            "  inflating: Nail Disease DataSet/Train/koilonychia/19.PNG  \n",
            "  inflating: Nail Disease DataSet/Train/koilonychia/2.PNG  \n",
            "  inflating: Nail Disease DataSet/Train/koilonychia/20.PNG  \n",
            "  inflating: Nail Disease DataSet/Train/koilonychia/21.PNG  \n",
            "  inflating: Nail Disease DataSet/Train/koilonychia/22.PNG  \n",
            "  inflating: Nail Disease DataSet/Train/koilonychia/23.PNG  \n",
            "  inflating: Nail Disease DataSet/Train/koilonychia/24.PNG  \n",
            "  inflating: Nail Disease DataSet/Train/koilonychia/25.PNG  \n",
            "  inflating: Nail Disease DataSet/Train/koilonychia/26.PNG  \n",
            "  inflating: Nail Disease DataSet/Train/koilonychia/27.PNG  \n",
            "  inflating: Nail Disease DataSet/Train/koilonychia/28.PNG  \n",
            "  inflating: Nail Disease DataSet/Train/koilonychia/29.PNG  \n",
            "  inflating: Nail Disease DataSet/Train/koilonychia/3.PNG  \n",
            "  inflating: Nail Disease DataSet/Train/koilonychia/30.PNG  \n",
            "  inflating: Nail Disease DataSet/Train/koilonychia/31.PNG  \n",
            "  inflating: Nail Disease DataSet/Train/koilonychia/32.PNG  \n",
            "  inflating: Nail Disease DataSet/Train/koilonychia/33.PNG  \n",
            "  inflating: Nail Disease DataSet/Train/koilonychia/34.PNG  \n",
            "  inflating: Nail Disease DataSet/Train/koilonychia/35.PNG  \n",
            "  inflating: Nail Disease DataSet/Train/koilonychia/36.PNG  \n",
            "  inflating: Nail Disease DataSet/Train/koilonychia/37.PNG  \n",
            "  inflating: Nail Disease DataSet/Train/koilonychia/38.PNG  \n",
            "  inflating: Nail Disease DataSet/Train/koilonychia/4.PNG  \n",
            "  inflating: Nail Disease DataSet/Train/koilonychia/5.PNG  \n",
            "  inflating: Nail Disease DataSet/Train/koilonychia/6.PNG  \n",
            "  inflating: Nail Disease DataSet/Train/koilonychia/7.PNG  \n",
            "  inflating: Nail Disease DataSet/Train/koilonychia/8.PNG  \n",
            "  inflating: Nail Disease DataSet/Train/koilonychia/9.PNG  \n",
            "  inflating: Nail Disease DataSet/Train/leukonychia/10.PNG  \n",
            "  inflating: Nail Disease DataSet/Train/leukonychia/12.PNG  \n",
            "  inflating: Nail Disease DataSet/Train/leukonychia/13.PNG  \n",
            "  inflating: Nail Disease DataSet/Train/leukonychia/14.PNG  \n",
            "  inflating: Nail Disease DataSet/Train/leukonychia/16.PNG  \n",
            "  inflating: Nail Disease DataSet/Train/leukonychia/18.PNG  \n",
            "  inflating: Nail Disease DataSet/Train/leukonychia/19.PNG  \n",
            "  inflating: Nail Disease DataSet/Train/leukonychia/2.PNG  \n",
            "  inflating: Nail Disease DataSet/Train/leukonychia/21.PNG  \n",
            "  inflating: Nail Disease DataSet/Train/leukonychia/22.PNG  \n",
            "  inflating: Nail Disease DataSet/Train/leukonychia/23.PNG  \n",
            "  inflating: Nail Disease DataSet/Train/leukonychia/24.PNG  \n",
            "  inflating: Nail Disease DataSet/Train/leukonychia/25.PNG  \n",
            "  inflating: Nail Disease DataSet/Train/leukonychia/26.PNG  \n",
            "  inflating: Nail Disease DataSet/Train/leukonychia/27.PNG  \n",
            "  inflating: Nail Disease DataSet/Train/leukonychia/28.PNG  \n",
            "  inflating: Nail Disease DataSet/Train/leukonychia/29.PNG  \n",
            "  inflating: Nail Disease DataSet/Train/leukonychia/30.PNG  \n",
            "  inflating: Nail Disease DataSet/Train/leukonychia/31.PNG  \n",
            "  inflating: Nail Disease DataSet/Train/leukonychia/32.PNG  \n",
            "  inflating: Nail Disease DataSet/Train/leukonychia/33.PNG  \n",
            "  inflating: Nail Disease DataSet/Train/leukonychia/34.PNG  \n",
            "  inflating: Nail Disease DataSet/Train/leukonychia/35.PNG  \n",
            "  inflating: Nail Disease DataSet/Train/leukonychia/36.PNG  \n",
            "  inflating: Nail Disease DataSet/Train/leukonychia/37.PNG  \n",
            "  inflating: Nail Disease DataSet/Train/leukonychia/38.PNG  \n",
            "  inflating: Nail Disease DataSet/Train/leukonychia/39.PNG  \n",
            "  inflating: Nail Disease DataSet/Train/leukonychia/4.PNG  \n",
            "  inflating: Nail Disease DataSet/Train/leukonychia/5.PNG  \n",
            "  inflating: Nail Disease DataSet/Train/leukonychia/6.PNG  \n",
            "  inflating: Nail Disease DataSet/Train/leukonychia/9.PNG  \n",
            "  inflating: Nail Disease DataSet/Train/onycholycis/1.PNG  \n",
            "  inflating: Nail Disease DataSet/Train/onycholycis/10.PNG  \n",
            "  inflating: Nail Disease DataSet/Train/onycholycis/11.PNG  \n",
            "  inflating: Nail Disease DataSet/Train/onycholycis/12.PNG  \n",
            "  inflating: Nail Disease DataSet/Train/onycholycis/13.PNG  \n",
            "  inflating: Nail Disease DataSet/Train/onycholycis/14.PNG  \n",
            "  inflating: Nail Disease DataSet/Train/onycholycis/15.PNG  \n",
            "  inflating: Nail Disease DataSet/Train/onycholycis/16.PNG  \n",
            "  inflating: Nail Disease DataSet/Train/onycholycis/17.PNG  \n",
            "  inflating: Nail Disease DataSet/Train/onycholycis/18.PNG  \n",
            "  inflating: Nail Disease DataSet/Train/onycholycis/19.PNG  \n",
            "  inflating: Nail Disease DataSet/Train/onycholycis/2.PNG  \n",
            "  inflating: Nail Disease DataSet/Train/onycholycis/20.PNG  \n",
            "  inflating: Nail Disease DataSet/Train/onycholycis/21.PNG  \n",
            "  inflating: Nail Disease DataSet/Train/onycholycis/22.PNG  \n",
            "  inflating: Nail Disease DataSet/Train/onycholycis/23.PNG  \n",
            "  inflating: Nail Disease DataSet/Train/onycholycis/24.PNG  \n",
            "  inflating: Nail Disease DataSet/Train/onycholycis/25.PNG  \n",
            "  inflating: Nail Disease DataSet/Train/onycholycis/26.PNG  \n",
            "  inflating: Nail Disease DataSet/Train/onycholycis/27.PNG  \n",
            "  inflating: Nail Disease DataSet/Train/onycholycis/28.PNG  \n",
            "  inflating: Nail Disease DataSet/Train/onycholycis/29.PNG  \n",
            "  inflating: Nail Disease DataSet/Train/onycholycis/3.PNG  \n",
            "  inflating: Nail Disease DataSet/Train/onycholycis/30.PNG  \n",
            "  inflating: Nail Disease DataSet/Train/onycholycis/31.PNG  \n",
            "  inflating: Nail Disease DataSet/Train/onycholycis/32.PNG  \n",
            "  inflating: Nail Disease DataSet/Train/onycholycis/33.PNG  \n",
            "  inflating: Nail Disease DataSet/Train/onycholycis/34.PNG  \n",
            "  inflating: Nail Disease DataSet/Train/onycholycis/35.PNG  \n",
            "  inflating: Nail Disease DataSet/Train/onycholycis/36.PNG  \n",
            "  inflating: Nail Disease DataSet/Train/onycholycis/37.PNG  \n",
            "  inflating: Nail Disease DataSet/Train/onycholycis/38.PNG  \n",
            "  inflating: Nail Disease DataSet/Train/onycholycis/39.PNG  \n",
            "  inflating: Nail Disease DataSet/Train/onycholycis/4.PNG  \n",
            "  inflating: Nail Disease DataSet/Train/onycholycis/40.PNG  \n",
            "  inflating: Nail Disease DataSet/Train/onycholycis/41.PNG  \n",
            "  inflating: Nail Disease DataSet/Train/onycholycis/42.PNG  \n",
            "  inflating: Nail Disease DataSet/Train/onycholycis/43.PNG  \n",
            "  inflating: Nail Disease DataSet/Train/onycholycis/44.PNG  \n",
            "  inflating: Nail Disease DataSet/Train/onycholycis/45.PNG  \n",
            "  inflating: Nail Disease DataSet/Train/onycholycis/46.PNG  \n",
            "  inflating: Nail Disease DataSet/Train/onycholycis/47.PNG  \n",
            "  inflating: Nail Disease DataSet/Train/onycholycis/48.PNG  \n",
            "  inflating: Nail Disease DataSet/Train/onycholycis/49.PNG  \n",
            "  inflating: Nail Disease DataSet/Train/onycholycis/5.PNG  \n",
            "  inflating: Nail Disease DataSet/Train/onycholycis/50.PNG  \n",
            "  inflating: Nail Disease DataSet/Train/onycholycis/6.PNG  \n",
            "  inflating: Nail Disease DataSet/Train/onycholycis/7.PNG  \n",
            "  inflating: Nail Disease DataSet/Train/onycholycis/8.PNG  \n",
            "  inflating: Nail Disease DataSet/Train/onycholycis/9.PNG  \n",
            "  inflating: Nail Disease DataSet/Train/pale nail/1.PNG  \n",
            "  inflating: Nail Disease DataSet/Train/pale nail/10.PNG  \n",
            "  inflating: Nail Disease DataSet/Train/pale nail/11.PNG  \n",
            "  inflating: Nail Disease DataSet/Train/pale nail/12.PNG  \n",
            "  inflating: Nail Disease DataSet/Train/pale nail/13.PNG  \n",
            "  inflating: Nail Disease DataSet/Train/pale nail/14.PNG  \n",
            "  inflating: Nail Disease DataSet/Train/pale nail/15.PNG  \n",
            "  inflating: Nail Disease DataSet/Train/pale nail/16.PNG  \n",
            "  inflating: Nail Disease DataSet/Train/pale nail/17.PNG  \n",
            "  inflating: Nail Disease DataSet/Train/pale nail/18.PNG  \n",
            "  inflating: Nail Disease DataSet/Train/pale nail/19.PNG  \n",
            "  inflating: Nail Disease DataSet/Train/pale nail/2.PNG  \n",
            "  inflating: Nail Disease DataSet/Train/pale nail/20.PNG  \n",
            "  inflating: Nail Disease DataSet/Train/pale nail/21.PNG  \n",
            "  inflating: Nail Disease DataSet/Train/pale nail/22.PNG  \n",
            "  inflating: Nail Disease DataSet/Train/pale nail/23.PNG  \n",
            "  inflating: Nail Disease DataSet/Train/pale nail/24.PNG  \n",
            "  inflating: Nail Disease DataSet/Train/pale nail/25.PNG  \n",
            "  inflating: Nail Disease DataSet/Train/pale nail/26.PNG  \n",
            "  inflating: Nail Disease DataSet/Train/pale nail/27.PNG  \n",
            "  inflating: Nail Disease DataSet/Train/pale nail/28.PNG  \n",
            "  inflating: Nail Disease DataSet/Train/pale nail/29.PNG  \n",
            "  inflating: Nail Disease DataSet/Train/pale nail/3.PNG  \n",
            "  inflating: Nail Disease DataSet/Train/pale nail/30.PNG  \n",
            "  inflating: Nail Disease DataSet/Train/pale nail/31.PNG  \n",
            "  inflating: Nail Disease DataSet/Train/pale nail/32.PNG  \n",
            "  inflating: Nail Disease DataSet/Train/pale nail/33.PNG  \n",
            "  inflating: Nail Disease DataSet/Train/pale nail/34.PNG  \n",
            "  inflating: Nail Disease DataSet/Train/pale nail/35.PNG  \n",
            "  inflating: Nail Disease DataSet/Train/pale nail/4.PNG  \n",
            "  inflating: Nail Disease DataSet/Train/pale nail/5.PNG  \n",
            "  inflating: Nail Disease DataSet/Train/pale nail/6.PNG  \n",
            "  inflating: Nail Disease DataSet/Train/pale nail/7.PNG  \n",
            "  inflating: Nail Disease DataSet/Train/pale nail/8.PNG  \n",
            "  inflating: Nail Disease DataSet/Train/pale nail/9.PNG  \n",
            "  inflating: Nail Disease DataSet/Train/red lunula/1.PNG  \n",
            "  inflating: Nail Disease DataSet/Train/red lunula/10.PNG  \n",
            "  inflating: Nail Disease DataSet/Train/red lunula/11.PNG  \n",
            "  inflating: Nail Disease DataSet/Train/red lunula/12.PNG  \n",
            "  inflating: Nail Disease DataSet/Train/red lunula/13.PNG  \n",
            "  inflating: Nail Disease DataSet/Train/red lunula/14.PNG  \n",
            "  inflating: Nail Disease DataSet/Train/red lunula/15.PNG  \n",
            "  inflating: Nail Disease DataSet/Train/red lunula/2.PNG  \n",
            "  inflating: Nail Disease DataSet/Train/red lunula/3.PNG  \n",
            "  inflating: Nail Disease DataSet/Train/red lunula/4.PNG  \n",
            "  inflating: Nail Disease DataSet/Train/red lunula/5.PNG  \n",
            "  inflating: Nail Disease DataSet/Train/red lunula/6.PNG  \n",
            "  inflating: Nail Disease DataSet/Train/red lunula/7.PNG  \n",
            "  inflating: Nail Disease DataSet/Train/red lunula/8.PNG  \n",
            "  inflating: Nail Disease DataSet/Train/red lunula/9.PNG  \n",
            "  inflating: Nail Disease DataSet/Train/splinter hemmorrage/1.PNG  \n",
            "  inflating: Nail Disease DataSet/Train/splinter hemmorrage/10.PNG  \n",
            "  inflating: Nail Disease DataSet/Train/splinter hemmorrage/11.PNG  \n",
            "  inflating: Nail Disease DataSet/Train/splinter hemmorrage/12.PNG  \n",
            "  inflating: Nail Disease DataSet/Train/splinter hemmorrage/13.PNG  \n",
            "  inflating: Nail Disease DataSet/Train/splinter hemmorrage/14.PNG  \n",
            "  inflating: Nail Disease DataSet/Train/splinter hemmorrage/15.PNG  \n",
            "  inflating: Nail Disease DataSet/Train/splinter hemmorrage/16.PNG  \n",
            "  inflating: Nail Disease DataSet/Train/splinter hemmorrage/17.PNG  \n",
            "  inflating: Nail Disease DataSet/Train/splinter hemmorrage/18.PNG  \n",
            "  inflating: Nail Disease DataSet/Train/splinter hemmorrage/19.PNG  \n",
            "  inflating: Nail Disease DataSet/Train/splinter hemmorrage/2.PNG  \n",
            "  inflating: Nail Disease DataSet/Train/splinter hemmorrage/20.PNG  \n",
            "  inflating: Nail Disease DataSet/Train/splinter hemmorrage/21.PNG  \n",
            "  inflating: Nail Disease DataSet/Train/splinter hemmorrage/22.PNG  \n",
            "  inflating: Nail Disease DataSet/Train/splinter hemmorrage/23.PNG  \n",
            "  inflating: Nail Disease DataSet/Train/splinter hemmorrage/24.PNG  \n",
            "  inflating: Nail Disease DataSet/Train/splinter hemmorrage/25.PNG  \n",
            "  inflating: Nail Disease DataSet/Train/splinter hemmorrage/26.PNG  \n",
            "  inflating: Nail Disease DataSet/Train/splinter hemmorrage/27.PNG  \n",
            "  inflating: Nail Disease DataSet/Train/splinter hemmorrage/28.PNG  \n",
            "  inflating: Nail Disease DataSet/Train/splinter hemmorrage/29.PNG  \n",
            "  inflating: Nail Disease DataSet/Train/splinter hemmorrage/3.PNG  \n",
            "  inflating: Nail Disease DataSet/Train/splinter hemmorrage/30.PNG  \n",
            "  inflating: Nail Disease DataSet/Train/splinter hemmorrage/31.PNG  \n",
            "  inflating: Nail Disease DataSet/Train/splinter hemmorrage/32.PNG  \n",
            "  inflating: Nail Disease DataSet/Train/splinter hemmorrage/33.PNG  \n",
            "  inflating: Nail Disease DataSet/Train/splinter hemmorrage/34.PNG  \n",
            "  inflating: Nail Disease DataSet/Train/splinter hemmorrage/35.PNG  \n",
            "  inflating: Nail Disease DataSet/Train/splinter hemmorrage/36.PNG  \n",
            "  inflating: Nail Disease DataSet/Train/splinter hemmorrage/37.PNG  \n",
            "  inflating: Nail Disease DataSet/Train/splinter hemmorrage/38.PNG  \n",
            "  inflating: Nail Disease DataSet/Train/splinter hemmorrage/39.PNG  \n",
            "  inflating: Nail Disease DataSet/Train/splinter hemmorrage/4.PNG  \n",
            "  inflating: Nail Disease DataSet/Train/splinter hemmorrage/40.PNG  \n",
            "  inflating: Nail Disease DataSet/Train/splinter hemmorrage/41.PNG  \n",
            "  inflating: Nail Disease DataSet/Train/splinter hemmorrage/42.PNG  \n",
            "  inflating: Nail Disease DataSet/Train/splinter hemmorrage/43.PNG  \n",
            "  inflating: Nail Disease DataSet/Train/splinter hemmorrage/5.PNG  \n",
            "  inflating: Nail Disease DataSet/Train/splinter hemmorrage/6.PNG  \n",
            "  inflating: Nail Disease DataSet/Train/splinter hemmorrage/7.PNG  \n",
            "  inflating: Nail Disease DataSet/Train/splinter hemmorrage/8.PNG  \n",
            "  inflating: Nail Disease DataSet/Train/splinter hemmorrage/9.PNG  \n",
            "  inflating: Nail Disease DataSet/Train/splinter hemmorrage/a.PNG  \n",
            "  inflating: Nail Disease DataSet/Train/splinter hemmorrage/b.PNG  \n",
            "  inflating: Nail Disease DataSet/Train/splinter hemmorrage/c.PNG  \n",
            "  inflating: Nail Disease DataSet/Train/splinter hemmorrage/d.PNG  \n",
            "  inflating: Nail Disease DataSet/Train/splinter hemmorrage/e.PNG  \n",
            "  inflating: Nail Disease DataSet/Train/splinter hemmorrage/g.PNG  \n",
            "  inflating: Nail Disease DataSet/Train/splinter hemmorrage/h.PNG  \n",
            "  inflating: Nail Disease DataSet/Train/splinter hemmorrage/j.PNG  \n",
            "  inflating: Nail Disease DataSet/Train/splinter hemmorrage/k.PNG  \n",
            "  inflating: Nail Disease DataSet/Train/splinter hemmorrage/l.PNG  \n",
            "  inflating: Nail Disease DataSet/Train/splinter hemmorrage/q.PNG  \n",
            "  inflating: Nail Disease DataSet/Train/splinter hemmorrage/r.PNG  \n",
            "  inflating: Nail Disease DataSet/Train/splinter hemmorrage/s.PNG  \n",
            "  inflating: Nail Disease DataSet/Train/splinter hemmorrage/t.PNG  \n",
            "  inflating: Nail Disease DataSet/Train/splinter hemmorrage/u.PNG  \n",
            "  inflating: Nail Disease DataSet/Train/splinter hemmorrage/v.PNG  \n",
            "  inflating: Nail Disease DataSet/Train/splinter hemmorrage/w.PNG  \n",
            "  inflating: Nail Disease DataSet/Train/splinter hemmorrage/x.PNG  \n",
            "  inflating: Nail Disease DataSet/Train/splinter hemmorrage/y.PNG  \n",
            "  inflating: Nail Disease DataSet/Train/terry_s nail/1.PNG  \n",
            "  inflating: Nail Disease DataSet/Train/terry_s nail/10.PNG  \n",
            "  inflating: Nail Disease DataSet/Train/terry_s nail/11.PNG  \n",
            "  inflating: Nail Disease DataSet/Train/terry_s nail/12.PNG  \n",
            "  inflating: Nail Disease DataSet/Train/terry_s nail/13.PNG  \n",
            "  inflating: Nail Disease DataSet/Train/terry_s nail/14.PNG  \n",
            "  inflating: Nail Disease DataSet/Train/terry_s nail/15.PNG  \n",
            "  inflating: Nail Disease DataSet/Train/terry_s nail/16.PNG  \n",
            "  inflating: Nail Disease DataSet/Train/terry_s nail/17.PNG  \n",
            "  inflating: Nail Disease DataSet/Train/terry_s nail/18.PNG  \n",
            "  inflating: Nail Disease DataSet/Train/terry_s nail/19.PNG  \n",
            "  inflating: Nail Disease DataSet/Train/terry_s nail/2.PNG  \n",
            "  inflating: Nail Disease DataSet/Train/terry_s nail/20.PNG  \n",
            "  inflating: Nail Disease DataSet/Train/terry_s nail/21.PNG  \n",
            "  inflating: Nail Disease DataSet/Train/terry_s nail/22.PNG  \n",
            "  inflating: Nail Disease DataSet/Train/terry_s nail/23.PNG  \n",
            "  inflating: Nail Disease DataSet/Train/terry_s nail/24.PNG  \n",
            "  inflating: Nail Disease DataSet/Train/terry_s nail/25.PNG  \n",
            "  inflating: Nail Disease DataSet/Train/terry_s nail/26.PNG  \n",
            "  inflating: Nail Disease DataSet/Train/terry_s nail/27.PNG  \n",
            "  inflating: Nail Disease DataSet/Train/terry_s nail/28.PNG  \n",
            "  inflating: Nail Disease DataSet/Train/terry_s nail/29.PNG  \n",
            "  inflating: Nail Disease DataSet/Train/terry_s nail/3.PNG  \n",
            "  inflating: Nail Disease DataSet/Train/terry_s nail/30.PNG  \n",
            "  inflating: Nail Disease DataSet/Train/terry_s nail/31.PNG  \n",
            "  inflating: Nail Disease DataSet/Train/terry_s nail/32.PNG  \n",
            "  inflating: Nail Disease DataSet/Train/terry_s nail/33.PNG  \n",
            "  inflating: Nail Disease DataSet/Train/terry_s nail/34.PNG  \n",
            "  inflating: Nail Disease DataSet/Train/terry_s nail/35.PNG  \n",
            "  inflating: Nail Disease DataSet/Train/terry_s nail/36.PNG  \n",
            "  inflating: Nail Disease DataSet/Train/terry_s nail/4.PNG  \n",
            "  inflating: Nail Disease DataSet/Train/terry_s nail/5.PNG  \n",
            "  inflating: Nail Disease DataSet/Train/terry_s nail/6.PNG  \n",
            "  inflating: Nail Disease DataSet/Train/terry_s nail/7.PNG  \n",
            "  inflating: Nail Disease DataSet/Train/terry_s nail/8.PNG  \n",
            "  inflating: Nail Disease DataSet/Train/terry_s nail/9.PNG  \n",
            "  inflating: Nail Disease DataSet/Train/white nail/10.PNG  \n",
            "  inflating: Nail Disease DataSet/Train/white nail/11.PNG  \n",
            "  inflating: Nail Disease DataSet/Train/white nail/12.PNG  \n",
            "  inflating: Nail Disease DataSet/Train/white nail/13.PNG  \n",
            "  inflating: Nail Disease DataSet/Train/white nail/14.PNG  \n",
            "  inflating: Nail Disease DataSet/Train/white nail/15.PNG  \n",
            "  inflating: Nail Disease DataSet/Train/white nail/16.PNG  \n",
            "  inflating: Nail Disease DataSet/Train/white nail/17.PNG  \n",
            "  inflating: Nail Disease DataSet/Train/white nail/18.PNG  \n",
            "  inflating: Nail Disease DataSet/Train/white nail/19.PNG  \n",
            "  inflating: Nail Disease DataSet/Train/white nail/2.PNG  \n",
            "  inflating: Nail Disease DataSet/Train/white nail/20.PNG  \n",
            "  inflating: Nail Disease DataSet/Train/white nail/21.PNG  \n",
            "  inflating: Nail Disease DataSet/Train/white nail/22.PNG  \n",
            "  inflating: Nail Disease DataSet/Train/white nail/23.PNG  \n",
            "  inflating: Nail Disease DataSet/Train/white nail/3.PNG  \n",
            "  inflating: Nail Disease DataSet/Train/white nail/6.PNG  \n",
            "  inflating: Nail Disease DataSet/Train/white nail/8.PNG  \n",
            "  inflating: Nail Disease DataSet/Train/white nail/9.PNG  \n",
            "  inflating: Nail Disease DataSet/Train/yellow nails/1.PNG  \n",
            "  inflating: Nail Disease DataSet/Train/yellow nails/10.PNG  \n",
            "  inflating: Nail Disease DataSet/Train/yellow nails/11.PNG  \n",
            "  inflating: Nail Disease DataSet/Train/yellow nails/12.PNG  \n",
            "  inflating: Nail Disease DataSet/Train/yellow nails/13.PNG  \n",
            "  inflating: Nail Disease DataSet/Train/yellow nails/14.PNG  \n",
            "  inflating: Nail Disease DataSet/Train/yellow nails/15.PNG  \n",
            "  inflating: Nail Disease DataSet/Train/yellow nails/16.PNG  \n",
            "  inflating: Nail Disease DataSet/Train/yellow nails/17.PNG  \n",
            "  inflating: Nail Disease DataSet/Train/yellow nails/18.PNG  \n",
            "  inflating: Nail Disease DataSet/Train/yellow nails/19.PNG  \n",
            "  inflating: Nail Disease DataSet/Train/yellow nails/2.PNG  \n",
            "  inflating: Nail Disease DataSet/Train/yellow nails/20.PNG  \n",
            "  inflating: Nail Disease DataSet/Train/yellow nails/21.PNG  \n",
            "  inflating: Nail Disease DataSet/Train/yellow nails/22.PNG  \n",
            "  inflating: Nail Disease DataSet/Train/yellow nails/23.PNG  \n",
            "  inflating: Nail Disease DataSet/Train/yellow nails/24.PNG  \n",
            "  inflating: Nail Disease DataSet/Train/yellow nails/25.PNG  \n",
            "  inflating: Nail Disease DataSet/Train/yellow nails/26.PNG  \n",
            "  inflating: Nail Disease DataSet/Train/yellow nails/27.PNG  \n",
            "  inflating: Nail Disease DataSet/Train/yellow nails/3.PNG  \n",
            "  inflating: Nail Disease DataSet/Train/yellow nails/4.PNG  \n",
            "  inflating: Nail Disease DataSet/Train/yellow nails/5.PNG  \n",
            "  inflating: Nail Disease DataSet/Train/yellow nails/6.PNG  \n",
            "  inflating: Nail Disease DataSet/Train/yellow nails/7.PNG  \n",
            "  inflating: Nail Disease DataSet/Train/yellow nails/8.PNG  \n",
            "  inflating: Nail Disease DataSet/Train/yellow nails/9.PNG  \n"
          ]
        }
      ]
    },
    {
      "cell_type": "markdown",
      "source": [
        "###Importimg Packages"
      ],
      "metadata": {
        "id": "hN7GwuStoWdZ"
      }
    },
    {
      "cell_type": "code",
      "source": [
        "import numpy as np\n",
        "import pandas as pd\n",
        "import os\n",
        "import cv2\n",
        "import matplotlib.pyplot as plt"
      ],
      "metadata": {
        "id": "pISESwO1oZzZ"
      },
      "execution_count": null,
      "outputs": []
    },
    {
      "cell_type": "markdown",
      "source": [
        "##Preprocessing of Images"
      ],
      "metadata": {
        "id": "w7vJRmCunzDK"
      }
    },
    {
      "cell_type": "code",
      "source": [
        "train_path=\"/content/Nail Disease DataSet/Train\"\n",
        "test_path=\"/content/Nail Disease DataSet/Test\""
      ],
      "metadata": {
        "id": "NvV9Lda6TwSv"
      },
      "execution_count": null,
      "outputs": []
    },
    {
      "cell_type": "code",
      "source": [
        "x_train=[]\n",
        "for folder in os.listdir(train_path):\n",
        "    sub_path=train_path+\"/\"+folder\n",
        "    for img in os.listdir(sub_path):\n",
        "        image_path=sub_path+\"/\"+img\n",
        "        img_arr=cv2.imread(image_path)\n",
        "        img_arr=cv2.resize(img_arr,(255,255))\n",
        "        x_train.append(img_arr)"
      ],
      "metadata": {
        "id": "Zu1PBqgIoF0O"
      },
      "execution_count": null,
      "outputs": []
    },
    {
      "cell_type": "code",
      "source": [
        "x_test=[]\n",
        "\n",
        "for folder in os.listdir(test_path):\n",
        "    sub_path=test_path+\"/\"+folder\n",
        "    for img in os.listdir(sub_path):\n",
        "        image_path=sub_path+\"/\"+img\n",
        "        img_arr=cv2.imread(image_path)\n",
        "        img_arr=cv2.resize(img_arr,(255,255))\n",
        "        x_test.append(img_arr)"
      ],
      "metadata": {
        "id": "bLy9jONEoFwG"
      },
      "execution_count": null,
      "outputs": []
    },
    {
      "cell_type": "code",
      "source": [
        "train_x=np.array(x_train)\n",
        "test_x=np.array(x_test)\n",
        "\n",
        "train_x=train_x/255.0\n",
        "test_x=test_x/255.0"
      ],
      "metadata": {
        "id": "sc_Laq6EoFug"
      },
      "execution_count": null,
      "outputs": []
    },
    {
      "cell_type": "markdown",
      "source": [
        "###Data Augmentation"
      ],
      "metadata": {
        "id": "q-omhTGBa74u"
      }
    },
    {
      "cell_type": "code",
      "source": [
        "from tensorflow.keras.preprocessing.image import ImageDataGenerator"
      ],
      "metadata": {
        "id": "gTP4CLwlTwJl"
      },
      "execution_count": null,
      "outputs": []
    },
    {
      "cell_type": "code",
      "source": [
        "train_datagen = ImageDataGenerator(rescale =1./255,zoom_range=0.2,shear_range= 0.2,horizontal_flip = True)\n",
        "test_datagen = ImageDataGenerator(rescale =1./255)"
      ],
      "metadata": {
        "id": "2okQU7piTwFI"
      },
      "execution_count": null,
      "outputs": []
    },
    {
      "cell_type": "code",
      "source": [
        "#Applying data augmentation for training data\n",
        "training_set = train_datagen.flow_from_directory('/content/Nail Disease DataSet/Train',\n",
        "                                            target_size=(255,255),\n",
        "                                            class_mode = 'categorical',\n",
        "                                            batch_size = 10)"
      ],
      "metadata": {
        "colab": {
          "base_uri": "https://localhost:8080/"
        },
        "id": "I0nVRdilTwDm",
        "outputId": "57781fd5-704f-474e-99be-01a86aa4ed8e"
      },
      "execution_count": null,
      "outputs": [
        {
          "output_type": "stream",
          "name": "stdout",
          "text": [
            "Found 655 images belonging to 17 classes.\n"
          ]
        }
      ]
    },
    {
      "cell_type": "code",
      "source": [
        "#Applying data augmentation for testing data\n",
        "\n",
        "test_set = test_datagen.flow_from_directory('/content/Nail Disease DataSet/Test',\n",
        "                                            target_size=(255,255),\n",
        "                                            class_mode = 'categorical',\n",
        "                                            batch_size = 10)"
      ],
      "metadata": {
        "colab": {
          "base_uri": "https://localhost:8080/"
        },
        "id": "4CByUGBVTv_d",
        "outputId": "9d9d86df-4fd5-428e-b1cd-0facf58ded52"
      },
      "execution_count": null,
      "outputs": [
        {
          "output_type": "stream",
          "name": "stdout",
          "text": [
            "Found 183 images belonging to 17 classes.\n"
          ]
        }
      ]
    },
    {
      "cell_type": "code",
      "source": [
        "train_y=training_set.classes\n",
        "test_y=test_set.classes"
      ],
      "metadata": {
        "id": "4Hxk2oYbpswK"
      },
      "execution_count": null,
      "outputs": []
    },
    {
      "cell_type": "code",
      "source": [
        "training_set.class_indices"
      ],
      "metadata": {
        "colab": {
          "base_uri": "https://localhost:8080/"
        },
        "id": "V-SIZFd4p6AO",
        "outputId": "ce4644d1-34ac-4192-fa67-8ea6226524d5"
      },
      "execution_count": null,
      "outputs": [
        {
          "output_type": "execute_result",
          "data": {
            "text/plain": [
              "{'Darier_s disease': 0,\n",
              " 'Muehrck-e_s lines': 1,\n",
              " 'aloperia areata': 2,\n",
              " 'beau_s lines': 3,\n",
              " 'bluish nail': 4,\n",
              " 'clubbing': 5,\n",
              " 'eczema': 6,\n",
              " 'half and half nailes (Lindsay_s nails)': 7,\n",
              " 'koilonychia': 8,\n",
              " 'leukonychia': 9,\n",
              " 'onycholycis': 10,\n",
              " 'pale nail': 11,\n",
              " 'red lunula': 12,\n",
              " 'splinter hemmorrage': 13,\n",
              " 'terry_s nail': 14,\n",
              " 'white nail': 15,\n",
              " 'yellow nails': 16}"
            ]
          },
          "metadata": {},
          "execution_count": 17
        }
      ]
    },
    {
      "cell_type": "code",
      "source": [
        "train_y.shape,test_y.shape"
      ],
      "metadata": {
        "colab": {
          "base_uri": "https://localhost:8080/"
        },
        "id": "c6b7yvmAqAoL",
        "outputId": "82e9840f-be72-4f0f-e008-2d68cd158ef2"
      },
      "execution_count": null,
      "outputs": [
        {
          "output_type": "execute_result",
          "data": {
            "text/plain": [
              "((655,), (183,))"
            ]
          },
          "metadata": {},
          "execution_count": 18
        }
      ]
    },
    {
      "cell_type": "markdown",
      "source": [
        "##Model Building using Transfer Learning"
      ],
      "metadata": {
        "id": "PmSfgZ_9bY4W"
      }
    },
    {
      "cell_type": "markdown",
      "source": [
        "####VGG19"
      ],
      "metadata": {
        "id": "Xzyam11sgFLa"
      }
    },
    {
      "cell_type": "code",
      "source": [
        "from tensorflow.keras.applications.vgg19 import VGG19\n",
        "from tensorflow.keras.layers import Dense, Flatten\n",
        "from tensorflow.keras.models import Model"
      ],
      "metadata": {
        "id": "w_9ReIMkTv93"
      },
      "execution_count": null,
      "outputs": []
    },
    {
      "cell_type": "code",
      "source": [
        "vgg19=VGG19(input_shape=[255,255]+[3],weights='imagenet',include_top=False)"
      ],
      "metadata": {
        "id": "6rCJZH_OTv58",
        "colab": {
          "base_uri": "https://localhost:8080/"
        },
        "outputId": "be5f9b78-2f1c-4958-96be-1878d71f3d36"
      },
      "execution_count": null,
      "outputs": [
        {
          "output_type": "stream",
          "name": "stdout",
          "text": [
            "Downloading data from https://storage.googleapis.com/tensorflow/keras-applications/vgg19/vgg19_weights_tf_dim_ordering_tf_kernels_notop.h5\n",
            "80134624/80134624 [==============================] - 4s 0us/step\n"
          ]
        }
      ]
    },
    {
      "cell_type": "code",
      "source": [
        "for layer in vgg19.layers:\n",
        "  layer.trainable = False"
      ],
      "metadata": {
        "id": "7MsiG7pmTv4a"
      },
      "execution_count": null,
      "outputs": []
    },
    {
      "cell_type": "code",
      "source": [
        "x = Flatten()(vgg19.output)"
      ],
      "metadata": {
        "id": "Pm0RQTJqTv01"
      },
      "execution_count": null,
      "outputs": []
    },
    {
      "cell_type": "code",
      "source": [
        "output = Dense(17,activation='softmax')(x)"
      ],
      "metadata": {
        "id": "reWB1atiTvzJ"
      },
      "execution_count": null,
      "outputs": []
    },
    {
      "cell_type": "code",
      "source": [
        "vgg=Model(vgg19.input,output)"
      ],
      "metadata": {
        "id": "RuIGepJyTvvd"
      },
      "execution_count": null,
      "outputs": []
    },
    {
      "cell_type": "code",
      "source": [
        "vgg.summary()"
      ],
      "metadata": {
        "colab": {
          "base_uri": "https://localhost:8080/"
        },
        "id": "zpwbv589Tvt5",
        "outputId": "c87de3b8-6fa9-4f66-9806-5bce2d3e9e2b"
      },
      "execution_count": null,
      "outputs": [
        {
          "output_type": "stream",
          "name": "stdout",
          "text": [
            "Model: \"model_1\"\n",
            "_________________________________________________________________\n",
            " Layer (type)                Output Shape              Param #   \n",
            "=================================================================\n",
            " input_2 (InputLayer)        [(None, 255, 255, 3)]     0         \n",
            "                                                                 \n",
            " block1_conv1 (Conv2D)       (None, 255, 255, 64)      1792      \n",
            "                                                                 \n",
            " block1_conv2 (Conv2D)       (None, 255, 255, 64)      36928     \n",
            "                                                                 \n",
            " block1_pool (MaxPooling2D)  (None, 127, 127, 64)      0         \n",
            "                                                                 \n",
            " block2_conv1 (Conv2D)       (None, 127, 127, 128)     73856     \n",
            "                                                                 \n",
            " block2_conv2 (Conv2D)       (None, 127, 127, 128)     147584    \n",
            "                                                                 \n",
            " block2_pool (MaxPooling2D)  (None, 63, 63, 128)       0         \n",
            "                                                                 \n",
            " block3_conv1 (Conv2D)       (None, 63, 63, 256)       295168    \n",
            "                                                                 \n",
            " block3_conv2 (Conv2D)       (None, 63, 63, 256)       590080    \n",
            "                                                                 \n",
            " block3_conv3 (Conv2D)       (None, 63, 63, 256)       590080    \n",
            "                                                                 \n",
            " block3_conv4 (Conv2D)       (None, 63, 63, 256)       590080    \n",
            "                                                                 \n",
            " block3_pool (MaxPooling2D)  (None, 31, 31, 256)       0         \n",
            "                                                                 \n",
            " block4_conv1 (Conv2D)       (None, 31, 31, 512)       1180160   \n",
            "                                                                 \n",
            " block4_conv2 (Conv2D)       (None, 31, 31, 512)       2359808   \n",
            "                                                                 \n",
            " block4_conv3 (Conv2D)       (None, 31, 31, 512)       2359808   \n",
            "                                                                 \n",
            " block4_conv4 (Conv2D)       (None, 31, 31, 512)       2359808   \n",
            "                                                                 \n",
            " block4_pool (MaxPooling2D)  (None, 15, 15, 512)       0         \n",
            "                                                                 \n",
            " block5_conv1 (Conv2D)       (None, 15, 15, 512)       2359808   \n",
            "                                                                 \n",
            " block5_conv2 (Conv2D)       (None, 15, 15, 512)       2359808   \n",
            "                                                                 \n",
            " block5_conv3 (Conv2D)       (None, 15, 15, 512)       2359808   \n",
            "                                                                 \n",
            " block5_conv4 (Conv2D)       (None, 15, 15, 512)       2359808   \n",
            "                                                                 \n",
            " block5_pool (MaxPooling2D)  (None, 7, 7, 512)         0         \n",
            "                                                                 \n",
            " flatten_1 (Flatten)         (None, 25088)             0         \n",
            "                                                                 \n",
            " dense_1 (Dense)             (None, 17)                426513    \n",
            "                                                                 \n",
            "=================================================================\n",
            "Total params: 20450897 (78.01 MB)\n",
            "Trainable params: 426513 (1.63 MB)\n",
            "Non-trainable params: 20024384 (76.39 MB)\n",
            "_________________________________________________________________\n"
          ]
        }
      ]
    },
    {
      "cell_type": "code",
      "source": [
        "vgg.compile(loss = 'sparse_categorical_crossentropy',\n",
        "              optimizer = 'adam',\n",
        "              metrics =['accuracy','mse'],\n",
        "              run_eagerly=True)"
      ],
      "metadata": {
        "id": "2ANynnh5TvqD"
      },
      "execution_count": null,
      "outputs": []
    },
    {
      "cell_type": "code",
      "source": [
        "#Early stopping to avoid overfitting of model\n",
        "from tensorflow.keras.callbacks import EarlyStopping\n",
        "\n",
        "early_stop=EarlyStopping(monitor='val_loss',mode='min',verbose=1,patience=5)\n"
      ],
      "metadata": {
        "id": "yv5iM8CCrSFL"
      },
      "execution_count": null,
      "outputs": []
    },
    {
      "cell_type": "code",
      "source": [
        "history = vgg.fit(train_x,train_y,\n",
        "                  validation_data=(test_x,test_y),\n",
        "                  epochs=17,\n",
        "                  batch_size=7,\n",
        "                  steps_per_epoch=(len(training_set))\n",
        "              )"
      ],
      "metadata": {
        "colab": {
          "base_uri": "https://localhost:8080/"
        },
        "id": "ypEW8NqZ9wyH",
        "outputId": "547c2554-6fcb-4392-ba5f-fcf63647c99b"
      },
      "execution_count": null,
      "outputs": [
        {
          "output_type": "stream",
          "name": "stdout",
          "text": [
            "Epoch 1/17\n",
            "66/66 [==============================] - 24s 288ms/step - loss: 0.7212 - accuracy: 0.8355 - mse: 76.1085 - val_loss: 6.2284 - val_accuracy: 0.3661 - val_mse: 75.6588\n",
            "Epoch 2/17\n",
            "66/66 [==============================] - 22s 338ms/step - loss: 1.4138 - accuracy: 0.7190 - mse: 79.6370 - val_loss: 5.8675 - val_accuracy: 0.4536 - val_mse: 75.6606\n",
            "Epoch 3/17\n",
            "66/66 [==============================] - 19s 284ms/step - loss: 0.8366 - accuracy: 0.7865 - mse: 75.7627 - val_loss: 6.0214 - val_accuracy: 0.4918 - val_mse: 75.6633\n",
            "Epoch 4/17\n",
            "66/66 [==============================] - 18s 279ms/step - loss: 0.9108 - accuracy: 0.7814 - mse: 79.3827 - val_loss: 6.5942 - val_accuracy: 0.3497 - val_mse: 75.6609\n",
            "Epoch 5/17\n",
            "66/66 [==============================] - 18s 280ms/step - loss: 0.5065 - accuracy: 0.8584 - mse: 71.8999 - val_loss: 6.4433 - val_accuracy: 0.5191 - val_mse: 75.6642\n",
            "Epoch 6/17\n",
            "66/66 [==============================] - 18s 280ms/step - loss: 0.4381 - accuracy: 0.8932 - mse: 80.4239 - val_loss: 6.2040 - val_accuracy: 0.5027 - val_mse: 75.6629\n",
            "Epoch 7/17\n",
            "66/66 [==============================] - 19s 287ms/step - loss: 0.4604 - accuracy: 0.8658 - mse: 76.2575 - val_loss: 6.8648 - val_accuracy: 0.4973 - val_mse: 75.6636\n",
            "Epoch 8/17\n",
            "66/66 [==============================] - 19s 285ms/step - loss: 0.4204 - accuracy: 0.8954 - mse: 74.6419 - val_loss: 6.4238 - val_accuracy: 0.5464 - val_mse: 75.6655\n",
            "Epoch 9/17\n",
            "66/66 [==============================] - 18s 280ms/step - loss: 0.6257 - accuracy: 0.8431 - mse: 79.3144 - val_loss: 6.4749 - val_accuracy: 0.5137 - val_mse: 75.6646\n",
            "Epoch 10/17\n",
            "66/66 [==============================] - 19s 284ms/step - loss: 0.2182 - accuracy: 0.9477 - mse: 76.0430 - val_loss: 6.2330 - val_accuracy: 0.5246 - val_mse: 75.6660\n",
            "Epoch 11/17\n",
            "66/66 [==============================] - 19s 287ms/step - loss: 0.1586 - accuracy: 0.9481 - mse: 74.6821 - val_loss: 6.5534 - val_accuracy: 0.5027 - val_mse: 75.6659\n",
            "Epoch 12/17\n",
            "66/66 [==============================] - 19s 284ms/step - loss: 0.2028 - accuracy: 0.9412 - mse: 77.0316 - val_loss: 6.4767 - val_accuracy: 0.5246 - val_mse: 75.6674\n",
            "Epoch 13/17\n",
            "66/66 [==============================] - 19s 286ms/step - loss: 0.1623 - accuracy: 0.9564 - mse: 78.3417 - val_loss: 6.5173 - val_accuracy: 0.4973 - val_mse: 75.6664\n",
            "Epoch 14/17\n",
            "66/66 [==============================] - 19s 285ms/step - loss: 0.5261 - accuracy: 0.8615 - mse: 77.4861 - val_loss: 6.7121 - val_accuracy: 0.5301 - val_mse: 75.6668\n",
            "Epoch 15/17\n",
            "66/66 [==============================] - 19s 285ms/step - loss: 0.2493 - accuracy: 0.9325 - mse: 81.9569 - val_loss: 6.6984 - val_accuracy: 0.5301 - val_mse: 75.6666\n",
            "Epoch 16/17\n",
            "66/66 [==============================] - 18s 280ms/step - loss: 0.1910 - accuracy: 0.9477 - mse: 73.9463 - val_loss: 7.2355 - val_accuracy: 0.5137 - val_mse: 75.6672\n",
            "Epoch 17/17\n",
            "66/66 [==============================] - 19s 282ms/step - loss: 0.2386 - accuracy: 0.9481 - mse: 76.8175 - val_loss: 7.8457 - val_accuracy: 0.4973 - val_mse: 75.6648\n"
          ]
        }
      ]
    },
    {
      "cell_type": "code",
      "source": [
        "# accuracies\n",
        "\n",
        "plt.plot(history.history['accuracy'], label='train acc')\n",
        "plt.plot(history.history['val_accuracy'], label='test acc')\n",
        "plt.legend()\n",
        "plt.savefig('vgg-acc-rps-1.png')\n",
        "plt.show()\n"
      ],
      "metadata": {
        "colab": {
          "base_uri": "https://localhost:8080/",
          "height": 430
        },
        "id": "hoNaqm8ZtYmV",
        "outputId": "5361d0f3-a0c5-49ed-98e7-64a9d76a6060"
      },
      "execution_count": null,
      "outputs": [
        {
          "output_type": "display_data",
          "data": {
            "text/plain": [
              "<Figure size 640x480 with 1 Axes>"
            ],
            "image/png": "[encoded data removed]"
          },
          "metadata": {}
        }
      ]
    },
    {
      "cell_type": "code",
      "source": [
        "# loss\n",
        "\n",
        "plt.plot(history.history['loss'], label='train loss')\n",
        "plt.plot(history.history['val_loss'], label='test loss')\n",
        "plt.legend()\n",
        "plt.savefig('vgg-loss-rps-1.png')\n",
        "plt.show()\n"
      ],
      "metadata": {
        "colab": {
          "base_uri": "https://localhost:8080/",
          "height": 430
        },
        "id": "g23LcVMctZf0",
        "outputId": "8bab4676-fde3-4e2d-8106-1d76f6911f9d"
      },
      "execution_count": null,
      "outputs": [
        {
          "output_type": "display_data",
          "data": {
            "text/plain": [
              "<Figure size 640x480 with 1 Axes>"
            ],
            "image/png": "[encoded data removed]"
          },
          "metadata": {}
        }
      ]
    },
    {
      "cell_type": "markdown",
      "source": [
        "##Performance Metrics"
      ],
      "metadata": {
        "id": "QP7qgWRVvceH"
      }
    },
    {
      "cell_type": "code",
      "source": [
        "from sklearn.metrics import accuracy_score,classification_report,confusion_matrix\n",
        "import numpy as np\n",
        "#predict\n",
        "y_pred=vgg.predict(test_x)\n",
        "y_pred=np.argmax(y_pred,axis=1)\n"
      ],
      "metadata": {
        "colab": {
          "base_uri": "https://localhost:8080/"
        },
        "id": "XnkhGoaLv_Ig",
        "outputId": "b3b7e232-bf76-40b8-9673-a2b2ab5c1ef1"
      },
      "execution_count": null,
      "outputs": [
        {
          "output_type": "stream",
          "name": "stdout",
          "text": [
            "6/6 [==============================] - 1s 234ms/step\n"
          ]
        }
      ]
    },
    {
      "cell_type": "code",
      "source": [
        "vgg.evaluate(test_x,test_y)"
      ],
      "metadata": {
        "colab": {
          "base_uri": "https://localhost:8080/"
        },
        "id": "ZRlQu0Wgvfbg",
        "outputId": "92110166-4078-4699-e8a8-4673786ec7be"
      },
      "execution_count": null,
      "outputs": [
        {
          "output_type": "stream",
          "name": "stdout",
          "text": [
            "6/6 [==============================] - 2s 298ms/step - loss: 7.8457 - accuracy: 0.4973 - mse: 75.6648\n"
          ]
        },
        {
          "output_type": "execute_result",
          "data": {
            "text/plain": [
              "[7.845677852630615, 0.4972677528858185, 75.66478729248047]"
            ]
          },
          "metadata": {},
          "execution_count": 74
        }
      ]
    },
    {
      "cell_type": "code",
      "source": [
        "#get accuracy score\n",
        "print(accuracy_score(y_pred,test_y))"
      ],
      "metadata": {
        "colab": {
          "base_uri": "https://localhost:8080/"
        },
        "id": "kFL_e7NRv_Bh",
        "outputId": "f7fbbe6f-01fc-4170-9deb-d7728341da50"
      },
      "execution_count": null,
      "outputs": [
        {
          "output_type": "stream",
          "name": "stdout",
          "text": [
            "0.48633879781420764\n"
          ]
        }
      ]
    },
    {
      "cell_type": "code",
      "source": [
        "#get classification report\n",
        "print(classification_report(y_pred,test_y))\n"
      ],
      "metadata": {
        "colab": {
          "base_uri": "https://localhost:8080/"
        },
        "id": "hbVmf-fdv-59",
        "outputId": "75d4ead0-352c-4b83-eeaf-2cc10d8fc0b0"
      },
      "execution_count": null,
      "outputs": [
        {
          "output_type": "stream",
          "name": "stdout",
          "text": [
            "              precision    recall  f1-score   support\n",
            "\n",
            "           0       0.71      0.75      0.73        16\n",
            "           1       0.22      0.18      0.20        11\n",
            "           2       0.33      0.62      0.43         8\n",
            "           3       0.62      0.31      0.42        16\n",
            "           4       0.23      0.21      0.22        14\n",
            "           5       0.25      0.38      0.30         8\n",
            "           6       0.58      0.54      0.56        13\n",
            "           7       0.60      0.69      0.64        13\n",
            "           8       0.75      0.75      0.75         8\n",
            "           9       0.83      0.71      0.77         7\n",
            "          10       0.50      0.86      0.63         7\n",
            "          11       0.38      0.33      0.35         9\n",
            "          12       0.27      0.44      0.33         9\n",
            "          13       0.50      0.31      0.38        16\n",
            "          14       0.67      0.55      0.60        11\n",
            "          15       0.83      0.62      0.71         8\n",
            "          16       1.00      0.89      0.94         9\n",
            "\n",
            "    accuracy                           0.51       183\n",
            "   macro avg       0.55      0.54      0.53       183\n",
            "weighted avg       0.54      0.51      0.51       183\n",
            "\n"
          ]
        }
      ]
    },
    {
      "cell_type": "code",
      "source": [
        "import seaborn as sns\n",
        "#get confusion matrix\n",
        "print(sns.heatmap(confusion_matrix(y_pred,test_y),annot=True))"
      ],
      "metadata": {
        "colab": {
          "base_uri": "https://localhost:8080/",
          "height": 452
        },
        "id": "vdn_b1eWv-wa",
        "outputId": "9604bbb6-bb8a-4c59-9030-e13e687490a3"
      },
      "execution_count": null,
      "outputs": [
        {
          "output_type": "stream",
          "name": "stdout",
          "text": [
            "Axes(0.125,0.11;0.62x0.77)\n"
          ]
        },
        {
          "output_type": "display_data",
          "data": {
            "text/plain": [
              "<Figure size 640x480 with 2 Axes>"
            ],
            "image/png": "[encoded data removed]"
          },
          "metadata": {}
        }
      ]
    },
    {
      "cell_type": "code",
      "source": [
        "vgg.save('vgg-16-nail-disease.h5')"
      ],
      "metadata": {
        "id": "-_MWhl12q9yl",
        "colab": {
          "base_uri": "https://localhost:8080/"
        },
        "outputId": "fb6a8ca8-7f8a-4802-8511-b7f931f69271"
      },
      "execution_count": null,
      "outputs": [
        {
          "output_type": "stream",
          "name": "stderr",
          "text": [
            "/usr/local/lib/python3.10/dist-packages/keras/src/engine/training.py:3079: UserWarning: You are saving your model as an HDF5 file via `model.save()`. This file format is considered legacy. We recommend using instead the native Keras format, e.g. `model.save('my_model.keras')`.\n",
            "  saving_api.save_model(\n"
          ]
        }
      ]
    },
    {
      "cell_type": "code",
      "source": [
        "from tensorflow.keras.preprocessing import image\n",
        "import numpy as np"
      ],
      "metadata": {
        "id": "XnDvlqj_w0_b"
      },
      "execution_count": null,
      "outputs": []
    },
    {
      "cell_type": "code",
      "source": [
        "img=image.load_img('/content/Nail Disease DataSet/Train/Muehrck-e_s lines/10.PNG', target_size=(255,255))\n",
        "img"
      ],
      "metadata": {
        "id": "ZJyJzvc1w095",
        "colab": {
          "base_uri": "https://localhost:8080/",
          "height": 272
        },
        "outputId": "ac8c1cb0-197e-4811-8d19-8516cce37fcb"
      },
      "execution_count": null,
      "outputs": [
        {
          "output_type": "execute_result",
          "data": {
            "text/plain": [
              "<PIL.Image.Image image mode=RGB size=255x255>"
            ],
            "image/png": "[encoded data removed]"
          },
          "metadata": {},
          "execution_count": 38
        }
      ]
    },
    {
      "cell_type": "code",
      "source": [
        "resized_image = tf.reshape(img, (255, 255, 3))\n",
        "resized_image = tf.squeeze(resized_image)\n",
        "resized_image"
      ],
      "metadata": {
        "id": "IcGIKTFuw05X",
        "colab": {
          "base_uri": "https://localhost:8080/"
        },
        "outputId": "660c074a-7bb6-4fbc-b17c-423a443bdfa4"
      },
      "execution_count": null,
      "outputs": [
        {
          "output_type": "execute_result",
          "data": {
            "text/plain": [
              "<tf.Tensor: shape=(255, 255, 3), dtype=uint8, numpy=\n",
              "array([[[182, 108,  73],\n",
              "        [182, 108,  73],\n",
              "        [182, 108,  73],\n",
              "        ...,\n",
              "        [203, 148, 107],\n",
              "        [203, 148, 107],\n",
              "        [203, 148, 107]],\n",
              "\n",
              "       [[182, 108,  73],\n",
              "        [182, 108,  73],\n",
              "        [182, 108,  73],\n",
              "        ...,\n",
              "        [203, 148, 107],\n",
              "        [203, 148, 107],\n",
              "        [203, 148, 107]],\n",
              "\n",
              "       [[182, 108,  73],\n",
              "        [182, 108,  73],\n",
              "        [182, 108,  73],\n",
              "        ...,\n",
              "        [203, 148, 107],\n",
              "        [203, 148, 107],\n",
              "        [203, 148, 107]],\n",
              "\n",
              "       ...,\n",
              "\n",
              "       [[163, 217, 236],\n",
              "        [163, 217, 236],\n",
              "        [163, 217, 236],\n",
              "        ...,\n",
              "        [197, 232, 247],\n",
              "        [197, 232, 247],\n",
              "        [197, 232, 247]],\n",
              "\n",
              "       [[163, 217, 236],\n",
              "        [163, 217, 236],\n",
              "        [163, 217, 236],\n",
              "        ...,\n",
              "        [197, 232, 247],\n",
              "        [197, 232, 247],\n",
              "        [197, 232, 247]],\n",
              "\n",
              "       [[163, 217, 236],\n",
              "        [163, 217, 236],\n",
              "        [163, 217, 236],\n",
              "        ...,\n",
              "        [197, 232, 247],\n",
              "        [197, 232, 247],\n",
              "        [197, 232, 247]]], dtype=uint8)>"
            ]
          },
          "metadata": {},
          "execution_count": 39
        }
      ]
    },
    {
      "cell_type": "code",
      "source": [
        "x = image.img_to_array(resized_image)\n",
        "x = np.expand_dims(x,axis = 0)\n",
        "x"
      ],
      "metadata": {
        "id": "2tYpDU0vw031",
        "colab": {
          "base_uri": "https://localhost:8080/"
        },
        "outputId": "0552be90-7145-42c8-fd4e-8da25d1ebb78"
      },
      "execution_count": null,
      "outputs": [
        {
          "output_type": "execute_result",
          "data": {
            "text/plain": [
              "array([[[[182., 108.,  73.],\n",
              "         [182., 108.,  73.],\n",
              "         [182., 108.,  73.],\n",
              "         ...,\n",
              "         [203., 148., 107.],\n",
              "         [203., 148., 107.],\n",
              "         [203., 148., 107.]],\n",
              "\n",
              "        [[182., 108.,  73.],\n",
              "         [182., 108.,  73.],\n",
              "         [182., 108.,  73.],\n",
              "         ...,\n",
              "         [203., 148., 107.],\n",
              "         [203., 148., 107.],\n",
              "         [203., 148., 107.]],\n",
              "\n",
              "        [[182., 108.,  73.],\n",
              "         [182., 108.,  73.],\n",
              "         [182., 108.,  73.],\n",
              "         ...,\n",
              "         [203., 148., 107.],\n",
              "         [203., 148., 107.],\n",
              "         [203., 148., 107.]],\n",
              "\n",
              "        ...,\n",
              "\n",
              "        [[163., 217., 236.],\n",
              "         [163., 217., 236.],\n",
              "         [163., 217., 236.],\n",
              "         ...,\n",
              "         [197., 232., 247.],\n",
              "         [197., 232., 247.],\n",
              "         [197., 232., 247.]],\n",
              "\n",
              "        [[163., 217., 236.],\n",
              "         [163., 217., 236.],\n",
              "         [163., 217., 236.],\n",
              "         ...,\n",
              "         [197., 232., 247.],\n",
              "         [197., 232., 247.],\n",
              "         [197., 232., 247.]],\n",
              "\n",
              "        [[163., 217., 236.],\n",
              "         [163., 217., 236.],\n",
              "         [163., 217., 236.],\n",
              "         ...,\n",
              "         [197., 232., 247.],\n",
              "         [197., 232., 247.],\n",
              "         [197., 232., 247.]]]], dtype=float32)"
            ]
          },
          "metadata": {},
          "execution_count": 40
        }
      ]
    },
    {
      "cell_type": "code",
      "source": [
        "pred =np.argmax(vgg.predict(x),axis=1)\n",
        "op =['Darier_s disease','Muehrck-e_s lines','aloperia areata','beau_s lines',\n",
        "     'bluish nail','clubbing','eczema','half and half nailes (Lindsay_s nails)',\n",
        "     'koilonychia','leukonychia','onycholycis','pale nail','red lunula',\n",
        "     'splinter hemmorrage','terry_s nail','white nail','yellow nails']\n",
        "result = str(op[pred[0]])\n",
        "result"
      ],
      "metadata": {
        "id": "R2TRpkLZxb5x",
        "colab": {
          "base_uri": "https://localhost:8080/",
          "height": 53
        },
        "outputId": "c1906ff9-60ed-4bfa-9ce6-2a6c3b482ae8"
      },
      "execution_count": null,
      "outputs": [
        {
          "output_type": "stream",
          "name": "stdout",
          "text": [
            "1/1 [==============================] - 1s 1s/step\n"
          ]
        },
        {
          "output_type": "execute_result",
          "data": {
            "text/plain": [
              "'leukonychia'"
            ],
            "application/vnd.google.colaboratory.intrinsic+json": {
              "type": "string"
            }
          },
          "metadata": {},
          "execution_count": 41
        }
      ]
    },
    {
      "cell_type": "code",
      "source": [],
      "metadata": {
        "id": "Utny_poVxcaC"
      },
      "execution_count": null,
      "outputs": []
    },
    {
      "cell_type": "code",
      "source": [],
      "metadata": {
        "id": "xExArVdhxcWA"
      },
      "execution_count": null,
      "outputs": []
    },
    {
      "cell_type": "code",
      "source": [],
      "metadata": {
        "id": "CIQ2MT4fxcUf"
      },
      "execution_count": null,
      "outputs": []
    },
    {
      "cell_type": "code",
      "source": [],
      "metadata": {
        "id": "DtPWFgYSxcRB"
      },
      "execution_count": null,
      "outputs": []
    },
    {
      "cell_type": "code",
      "source": [],
      "metadata": {
        "id": "ZnuxQypgxcPW"
      },
      "execution_count": null,
      "outputs": []
    }
  ]
}